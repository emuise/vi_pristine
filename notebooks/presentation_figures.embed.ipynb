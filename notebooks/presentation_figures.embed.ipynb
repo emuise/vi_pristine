{
 "cells": [
  {
   "cell_type": "markdown",
   "metadata": {},
   "source": [
    "# Vancouver Island\n",
    "\n",
    "Evan Muise\n",
    "\n",
    "# setup always run\n",
    "\n",
    "Load Packages"
   ],
   "id": "d2f8b9c6-e72f-4829-8b75-c5570ad4da59"
  },
  {
   "cell_type": "code",
   "execution_count": null,
   "metadata": {},
   "outputs": [
    {
     "output_type": "stream",
     "name": "stderr",
     "text": [
      "── Attaching core tidyverse packages ──────────────────────── tidyverse 2.0.0 ──\n",
      "✔ dplyr     1.1.4     ✔ readr     2.1.5\n",
      "✔ forcats   1.0.0     ✔ stringr   1.5.1\n",
      "✔ ggplot2   3.5.1     ✔ tibble    3.2.1\n",
      "✔ lubridate 1.9.3     ✔ tidyr     1.3.1\n",
      "✔ purrr     1.0.2     \n",
      "── Conflicts ────────────────────────────────────────── tidyverse_conflicts() ──\n",
      "✖ dplyr::filter() masks stats::filter()\n",
      "✖ dplyr::lag()    masks stats::lag()\n",
      "ℹ Use the conflicted package (<http://conflicted.r-lib.org/>) to force all conflicts to become errors"
     ]
    },
    {
     "output_type": "stream",
     "name": "stderr",
     "text": [
      "terra 1.7.78\n",
      "\n",
      "Attaching package: 'terra'\n",
      "\n",
      "The following object is masked from 'package:tidyr':\n",
      "\n",
      "    extract"
     ]
    },
    {
     "output_type": "stream",
     "name": "stderr",
     "text": [
      "Linking to GEOS 3.12.1, GDAL 3.8.4, PROJ 9.3.1; sf_use_s2() is TRUE"
     ]
    },
    {
     "output_type": "stream",
     "name": "stderr",
     "text": [
      "\n",
      "Attaching package: 'glue'\n",
      "\n",
      "The following object is masked from 'package:terra':\n",
      "\n",
      "    trim"
     ]
    },
    {
     "output_type": "stream",
     "name": "stderr",
     "text": [
      "\n",
      "Attaching package: 'tidyterra'\n",
      "\n",
      "The following object is masked from 'package:stats':\n",
      "\n",
      "    filter"
     ]
    },
    {
     "output_type": "stream",
     "name": "stderr",
     "text": [
      "\n",
      "Attaching package: 'arrow'\n",
      "\n",
      "The following object is masked from 'package:terra':\n",
      "\n",
      "    buffer\n",
      "\n",
      "The following object is masked from 'package:lubridate':\n",
      "\n",
      "    duration\n",
      "\n",
      "The following object is masked from 'package:utils':\n",
      "\n",
      "    timestamp"
     ]
    },
    {
     "output_type": "stream",
     "name": "stderr",
     "text": [
      "\n",
      "Attaching package: 'patchwork'\n",
      "\n",
      "The following object is masked from 'package:terra':\n",
      "\n",
      "    area"
     ]
    },
    {
     "output_type": "stream",
     "name": "stderr",
     "text": [
      "Loading required package: future"
     ]
    },
    {
     "output_type": "stream",
     "name": "stderr",
     "text": [
      "\n",
      "Attaching package: 'data.table'\n",
      "\n",
      "The following object is masked from 'package:terra':\n",
      "\n",
      "    shift\n",
      "\n",
      "The following objects are masked from 'package:lubridate':\n",
      "\n",
      "    hour, isoweek, mday, minute, month, quarter, second, wday, week,\n",
      "    yday, year\n",
      "\n",
      "The following objects are masked from 'package:dplyr':\n",
      "\n",
      "    between, first, last\n",
      "\n",
      "The following object is masked from 'package:purrr':\n",
      "\n",
      "    transpose"
     ]
    }
   ],
   "source": [
    "library(tidyverse)"
   ],
   "id": "4244b560-0f70-4b14-aa28-a93d8616bc0c"
  },
  {
   "cell_type": "markdown",
   "metadata": {},
   "source": [
    "Set up folder structure"
   ],
   "id": "98050693-d8cf-47e3-aea0-b3665e3a1d3f"
  },
  {
   "cell_type": "code",
   "execution_count": null,
   "metadata": {},
   "outputs": [],
   "source": [
    "base_data_loc <- here::here(\"strathcona\")\n",
    "dir.create(base_data_loc, showWarnings = F)\n",
    "\n",
    "input_loc <- here::here(\"data\", \"rasters\", \"inputs\")\n",
    "dir.create(input_loc, showWarnings = F)\n",
    "tab_loc <- here::here(base_data_loc, \"data\", \"tabs\")\n",
    "dir.create(tab_loc, showWarnings = F, recursive = T)\n",
    "\n",
    "scratch <- here::here(\"data\", \"scratch\")\n",
    "dir.create(scratch, showWarnings = F)\n",
    "\n",
    "split_loc <- here::here(tab_loc, \"split_strata\")\n",
    "dir.create(split_loc, showWarnings = F)\n",
    "\n",
    "treat_loc <- here::here(tab_loc, \"treatment_strata\")\n",
    "dir.create(treat_loc, showWarnings = F)\n",
    "\n",
    "mahal_tab_loc <- here::here(tab_loc, \"mahal\")\n",
    "dir.create(mahal_tab_loc, showWarnings = F)\n",
    "\n",
    "mahal_ras_loc <- here::here(base_data_loc, \"data\", \"rasters\", \"mahal\")\n",
    "dir.create(mahal_ras_loc, showWarnings = F, recursive = T)\n",
    "\n",
    "nn_save_loc <- here::here(base_data_loc, \"data\", \"rasters\", \"nn_dist\")\n",
    "dir.create(nn_save_loc, showWarnings = F)\n",
    "\n",
    "shapefile_loc <- here::here(base_data_loc, \"data\", \"shapefiles\")\n",
    "dir.create(shapefile_loc, showWarnings = F)\n",
    "\n",
    "figure_loc <- here::here(base_data_loc, \"figures\")\n",
    "dir.create(figure_loc, showWarnings = F)"
   ],
   "id": "45101f2a-a325-49b6-bbba-4b40ddedf672"
  },
  {
   "cell_type": "markdown",
   "metadata": {},
   "source": [
    "Map and plot themes"
   ],
   "id": "7a5f360a-2838-43f2-9d6f-4246ac333186"
  },
  {
   "cell_type": "code",
   "execution_count": null,
   "metadata": {},
   "outputs": [],
   "source": [
    "map_theme <- theme_grey() + \n",
    "  theme(panel.background = element_rect(fill = \"white\", colour = \"black\"),\n",
    "    panel.grid = element_line(colour = \"#ebebeb\"),\n",
    "    legend.position = \"inside\",\n",
    "    legend.position.inside = c(0.8, 0.8))\n",
    "\n",
    "plot_theme <- theme_bw() +\n",
    "  theme(panel.grid = element_blank())"
   ],
   "id": "32653834-c2c9-421d-9154-67884b9d0d04"
  },
  {
   "cell_type": "code",
   "execution_count": null,
   "metadata": {},
   "outputs": [],
   "source": [
    "all_df <- read_parquet(\"E:/Sync/Masters/04_vi_pristine/strathcona/data_backup_mindhi_included/tabs/all_data.parquet\")\n",
    "\n",
    "strata_oi <- function(confound_correlation_filter = T) {\n",
    "  if (confound_correlation_filter) {\n",
    "    c(\"clim_MAP_bin\", \"DEM_bin\", \"slope_bin\")\n",
    "  } else {\n",
    "    c(ends_with(\"bin\"))\n",
    "  }\n",
    "} \n",
    "\n",
    "\n",
    "forested_strata <- all_df %>%\n",
    "  filter(!is.na(forests)) %>%\n",
    "  unite(col = \"strata\", strata_oi(F), sep = \"-\")\n",
    "\n",
    "rm(all_df)"
   ],
   "id": "4e7b35f0-733d-40ac-9514-2e0c6551bc63"
  },
  {
   "cell_type": "markdown",
   "metadata": {},
   "source": [
    "# histogram plot"
   ],
   "id": "daa8b335-5af8-492d-9091-454f87439c4c"
  },
  {
   "cell_type": "code",
   "execution_count": null,
   "metadata": {},
   "outputs": [
    {
     "output_type": "stream",
     "name": "stderr",
     "text": [
      "Joining with `by = join_by(name)`"
     ]
    },
    {
     "output_type": "stream",
     "name": "stderr",
     "text": [
      "`stat_bin()` using `bins = 30`. Pick better value with `binwidth`."
     ]
    }
   ],
   "source": [
    "data <- forested_strata %>%\n",
    "  select(CumDHI:total_biomass) %>%\n",
    "  select(-MinDHI) %>%\n",
    "  slice_sample(n = 1000) %>%\n",
    "  pivot_longer(everything()) %>%\n",
    "  left_join(keys$continuous %>%\n",
    "              select(name = variable,\n",
    "                     label)) %>%\n",
    "  select(-name)"
   ],
   "id": "b6f55e61-69e9-4d5f-9d5d-e587285a252b"
  },
  {
   "cell_type": "markdown",
   "metadata": {},
   "source": [
    "# INSET MAP"
   ],
   "id": "29f7b0e9-d934-455b-bd50-16f5b50b5659"
  },
  {
   "cell_type": "code",
   "execution_count": null,
   "metadata": {},
   "outputs": [
    {
     "output_type": "stream",
     "name": "stderr",
     "text": [
      "bc_bound_hres was updated on NULL"
     ]
    }
   ],
   "source": [
    "forests <- \"E:/Sync/Masters/analysis_03_decay/data/rasters/forests.dat\" %>%\n",
    "  rast()\n",
    "\n",
    "bcb_hres <- bcmaps::bc_bound_hres() %>%\n",
    "  vect()"
   ],
   "id": "55299556-d364-48bb-b26b-3dd5268265f5"
  },
  {
   "cell_type": "code",
   "execution_count": null,
   "metadata": {},
   "outputs": [],
   "source": [
    "forests_vi <- forests %>%\n",
    "  crop(vi_mainland, mask = T)\n",
    "\n",
    "names(forests_vi) <- \"forests\"\n",
    "\n",
    "vi_rast <- vi_mainland %>%\n",
    "  rasterize(forests_vi, field = 1, touches = T) %>%\n",
    "  trim()"
   ],
   "id": "a315cc11-ee18-476d-a381-123ae157f0bb"
  },
  {
   "cell_type": "code",
   "execution_count": null,
   "metadata": {},
   "outputs": [],
   "source": [
    "pa_filt_loc <- here::here(shapefile_loc, \"pa_filt.shp\")\n",
    "\n",
    "if (!file.exists(pa_filt_loc)) {\n",
    "  cad_pa <- wdpa_fetch(\"CAN\", download_dir = scratch)\n",
    "  \n",
    "  vi_pa <- cad_pa %>%\n",
    "    filter(st_geometry_type(.) != \"MULTIPOINT\") %>% # get rid of point PAs\n",
    "    vect() %>%\n",
    "    project(vi_mainland) %>%\n",
    "    crop(vi_mainland) %>%\n",
    "    janitor::clean_names() %>%\n",
    "    mutate(area = expanse(., unit = \"ha\"))\n",
    "  \n",
    "  pa_filt <- vi_pa  %>%\n",
    "    mutate(included = (iucn_cat %in% c(\"Ia\", \"Ib\", \"II\", \"IV\") &\n",
    "                         area >= 100))\n",
    "  \n",
    "  # this filters it to just strathcona to test it\n",
    "  pa_filt <- vi_pa %>%\n",
    "    filter(str_detect(name, \"Strath\")) %>%\n",
    "    mutate(included = T)\n",
    "  \n",
    "  writeVector(pa_filt, pa_filt_loc, overwrite = T)\n",
    "}\n",
    "pa_filt <- vect(pa_filt_loc)\n",
    "  \n",
    "pa_rast <- pa_filt %>%\n",
    "  rasterize(vi_rast)\n",
    "\n",
    "names(pa_rast) <- \"pa\""
   ],
   "id": "b58d6153-9690-4cd7-9f1b-77f717ac98a0"
  },
  {
   "cell_type": "markdown",
   "metadata": {},
   "source": [
    "Download great lakes data"
   ],
   "id": "72495ea5-a34d-4529-8cbd-1ed43c9b0aa7"
  },
  {
   "cell_type": "code",
   "execution_count": null,
   "metadata": {},
   "outputs": [],
   "source": [
    "url <- \"https://www.sciencebase.gov/catalog/file/get/530f8a0ee4b0e7e46bd300dd\"\n",
    "\n",
    "dest <- here::here(scratch, \"great_lakes.zip\")\n",
    "\n",
    "if (!file.exists(dest)) {\n",
    "  download.file(url, destfile = dest, mode = \"wb\")\n",
    "}\n",
    "\n",
    "unzip_dir <- here::here(scratch, \"great_lakes\")\n",
    "\n",
    "unzip(dest, exdir = unzip_dir)\n",
    "\n",
    "great_lakes <- list.files(unzip_dir, pattern = \"hydro.*\\\\.shp$\", recursive = T, full.names = T) %>%\n",
    "  map(vect) %>%\n",
    "  map(aggregate) %>%\n",
    "  vect() %>%\n",
    "  project(\"epsg:3347\")"
   ],
   "id": "efbc42fa-6d69-48eb-aca8-27733f3c19d0"
  },
  {
   "cell_type": "markdown",
   "metadata": {},
   "source": [
    "Make the study area map Caption: Location of Vancouver Island’s protected areas that meet the inclusion criteria (IUCN categories Ia, Ib, II, and IV; \\> 100 ha in size) for our study."
   ],
   "id": "6659c6ac-7b3c-48d9-a020-8da288a9b29a"
  },
  {
   "cell_type": "code",
   "execution_count": null,
   "metadata": {},
   "outputs": [
    {
     "output_type": "stream",
     "name": "stderr",
     "text": [
      "Warning: Point outside of projection domain (GDAL error 1)\n",
      "Warning: Point outside of projection domain (GDAL error 1)\n",
      "Warning: Point outside of projection domain (GDAL error 1)\n",
      "Warning: Point outside of projection domain (GDAL error 1)\n",
      "Warning: Point outside of projection domain (GDAL error 1)"
     ]
    }
   ],
   "source": [
    "vi_ext <- ext(vi_mainland)\n",
    "\n",
    "# download vectors of NA coutnries for the inset map\n",
    "cad <- geodata::gadm(\"Canada\", level = 1, path = \"scratch\")\n",
    "\n",
    "world <- geodata::world(path = \"scratch\") %>%\n",
    "  project(\"epsg:3347\")"
   ],
   "id": "541ede75-922c-4243-ba1f-b047bc51d657"
  },
  {
   "cell_type": "markdown",
   "metadata": {},
   "source": [
    "# variable maps"
   ],
   "id": "ab78c802-4072-4c1f-b0bf-b093a36d13d0"
  },
  {
   "cell_type": "code",
   "execution_count": null,
   "metadata": {},
   "outputs": [
    {
     "output_type": "stream",
     "name": "stderr",
     "text": [
      "<SpatRaster> resampled to 500387 cells."
     ]
    }
   ],
   "source": [
    "hf <- \"E:/Sync/Masters/04_vi_pristine/data/rasters/inputs/human_footprint.dat\" %>%\n",
    "  rast()\n",
    "\n",
    "\n",
    "hf_vi <- ggplot() +\n",
    "  geom_spatraster(data = hf) +\n",
    "  scico::scale_fill_scico(palette = \"bamako\", na.value = \"transparent\") +\n",
    "  labs(fill = \"Human Footprint\") +\n",
    "  map_theme +\n",
    "  inset_element(\n",
    "    inset,\n",
    "    0,\n",
    "    0,\n",
    "    0.4,\n",
    "    0.4\n",
    "  )"
   ],
   "id": "f3ede30e-746c-4e92-9195-555985e1570c"
  },
  {
   "cell_type": "code",
   "execution_count": null,
   "metadata": {},
   "outputs": [
    {
     "output_type": "stream",
     "name": "stderr",
     "text": [
      "<SpatRaster> resampled to 500387 cells."
     ]
    }
   ],
   "source": [
    "dem <- \"E:/Sync/Masters/04_vi_pristine/data/rasters/inputs/DEM.dat\" %>%\n",
    "  rast()\n",
    "\n",
    "dem_vi <- ggplot() +\n",
    "  geom_spatraster(data = dem) +\n",
    "  #scico::scale_fill_scico(palette = \"batlowK\", na.value = \"transparent\") +\n",
    "  scale_fill_whitebox_c(na.value = \"transparent\") +\n",
    "  labs(fill = \"Elevation (m)\") +\n",
    "  map_theme"
   ],
   "id": "a5df7a5f-d95e-4250-9cc7-45a7e3a2b17b"
  },
  {
   "cell_type": "code",
   "execution_count": null,
   "metadata": {},
   "outputs": [
    {
     "output_type": "stream",
     "name": "stderr",
     "text": [
      "<SpatRaster> resampled to 500387 cells."
     ]
    }
   ],
   "source": [
    "clim <- \"E:/Sync/Masters/04_vi_pristine/data/rasters/inputs/clim_MAP.dat\" %>%\n",
    "  rast()\n",
    "\n",
    "dem_vi <- ggplot() +\n",
    "  geom_spatraster(data = clim) +\n",
    "  scico::scale_fill_scico(palette = \"batlowK\", na.value = \"transparent\") +\n",
    "  labs(fill = \"Mean Annual\\nPrecipitation (mm)\") +\n",
    "  map_theme +\n",
    "  inset_element(\n",
    "    inset,\n",
    "    0,\n",
    "    0,\n",
    "    0.4,\n",
    "    0.4\n",
    "  )"
   ],
   "id": "a74146b9-bbd8-4d85-b5cb-0cea7db14b15"
  },
  {
   "cell_type": "markdown",
   "metadata": {},
   "source": [
    "# mahalanobis plots for presentation"
   ],
   "id": "6121ebe4-c0cd-4631-8321-8da1654a0090"
  },
  {
   "cell_type": "code",
   "execution_count": null,
   "metadata": {},
   "outputs": [],
   "source": [
    "pca_on_cols <- function(group_name, cols) {\n",
    "  for_pca <- forested_strata %>% select({{cols}})\n",
    "  \n",
    "  pca_vi <- prcomp(for_pca, center = T, scale = T)\n",
    "  \n",
    "  vars <- apply(pca_vi$x, 2, var)\n",
    "  \n",
    "  props <- vars / sum(vars)\n",
    "  \n",
    "  n_comps <- (props > 0.01) %>% sum()\n",
    "  \n",
    "  pca_vi_scores <- pca_vi$x %>% as_tibble() %>%\n",
    "    .[, 1:n_comps]\n",
    "  \n",
    "  names(pca_vi_scores) <- glue(\"{group_name}_{1:n_comps}\")\n",
    "  \n",
    "  pca_vi_scores\n",
    "}\n",
    "\n",
    "pca_str <- pca_on_cols(\"str\",\n",
    "                       c(\n",
    "                         elev_p95,\n",
    "                         percentage_first_returns_above_2m,\n",
    "                         total_biomass,\n",
    "                         elev_cv\n",
    "                       ))\n",
    "\n",
    "str_pca <- bind_cols(forested_strata, pca_str) %>%\n",
    "  select(strata,\n",
    "         forests,\n",
    "         elev_cv:total_biomass,\n",
    "         starts_with(\"str\"),\n",
    "         disturbance,\n",
    "         pa)"
   ],
   "id": "6729ea22-c6ee-4887-ab43-e09828b1d51b"
  },
  {
   "cell_type": "code",
   "execution_count": null,
   "metadata": {},
   "outputs": [
    {
     "output_type": "display_data",
     "metadata": {},
     "data": {
      "image/png": "[encoded data removed]"
     }
    }
   ],
   "source": [
    "subset <- str_pca %>%\n",
    "  filter(strata == \"4-3-3-4-2-1\", forests == \"coniferous\") %>%\n",
    "  mutate(q90 = elev_p95 >= quantile(elev_p95, 0.90),\n",
    "         treat_q90 = q90 & pa == 1)\n",
    "\n",
    "(\n",
    "  notransform <- subset %>%\n",
    "    #slice_sample(n = 10000) %>%\n",
    "    ggplot(\n",
    "      aes(x = elev_p95, y = percentage_first_returns_above_2m, col = treat_q90)\n",
    "    ) +\n",
    "    geom_jitter(height = 5, width = 5) +\n",
    "    plot_theme +\n",
    "    scale_colour_manual(values = c(\"#00000025\", \"red\"), name = \"Reference State\") +\n",
    "    labs(x = \"Canopy Height\", y = \"Canopy Cover\") +\n",
    "    theme(legend.position = \"bottom\")\n",
    ")"
   ],
   "id": "5597e691-fcc1-49d9-acba-59834624d6e9"
  }
 ],
 "nbformat": 4,
 "nbformat_minor": 5,
 "metadata": {}
}
