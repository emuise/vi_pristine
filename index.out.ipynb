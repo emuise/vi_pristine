{
 "cells": [
  {
   "cell_type": "markdown",
   "metadata": {},
   "source": [
    "# Cumulative and individual impacts of the human footprint on\n",
    "\n",
    "biodiversity indicators using dissimilarity to high integrity reference states.\n",
    "\n",
    "Evan Muise [![](data:image/png;base64,iVBORw0KGgoAAAANSUhEUgAAABAAAAAQCAYAAAAf8/9hAAAAGXRFWHRTb2Z0d2FyZQBBZG9iZSBJbWFnZVJlYWR5ccllPAAAA2ZpVFh0WE1MOmNvbS5hZG9iZS54bXAAAAAAADw/eHBhY2tldCBiZWdpbj0i77u/IiBpZD0iVzVNME1wQ2VoaUh6cmVTek5UY3prYzlkIj8+IDx4OnhtcG1ldGEgeG1sbnM6eD0iYWRvYmU6bnM6bWV0YS8iIHg6eG1wdGs9IkFkb2JlIFhNUCBDb3JlIDUuMC1jMDYwIDYxLjEzNDc3NywgMjAxMC8wMi8xMi0xNzozMjowMCAgICAgICAgIj4gPHJkZjpSREYgeG1sbnM6cmRmPSJodHRwOi8vd3d3LnczLm9yZy8xOTk5LzAyLzIyLXJkZi1zeW50YXgtbnMjIj4gPHJkZjpEZXNjcmlwdGlvbiByZGY6YWJvdXQ9IiIgeG1sbnM6eG1wTU09Imh0dHA6Ly9ucy5hZG9iZS5jb20veGFwLzEuMC9tbS8iIHhtbG5zOnN0UmVmPSJodHRwOi8vbnMuYWRvYmUuY29tL3hhcC8xLjAvc1R5cGUvUmVzb3VyY2VSZWYjIiB4bWxuczp4bXA9Imh0dHA6Ly9ucy5hZG9iZS5jb20veGFwLzEuMC8iIHhtcE1NOk9yaWdpbmFsRG9jdW1lbnRJRD0ieG1wLmRpZDo1N0NEMjA4MDI1MjA2ODExOTk0QzkzNTEzRjZEQTg1NyIgeG1wTU06RG9jdW1lbnRJRD0ieG1wLmRpZDozM0NDOEJGNEZGNTcxMUUxODdBOEVCODg2RjdCQ0QwOSIgeG1wTU06SW5zdGFuY2VJRD0ieG1wLmlpZDozM0NDOEJGM0ZGNTcxMUUxODdBOEVCODg2RjdCQ0QwOSIgeG1wOkNyZWF0b3JUb29sPSJBZG9iZSBQaG90b3Nob3AgQ1M1IE1hY2ludG9zaCI+IDx4bXBNTTpEZXJpdmVkRnJvbSBzdFJlZjppbnN0YW5jZUlEPSJ4bXAuaWlkOkZDN0YxMTc0MDcyMDY4MTE5NUZFRDc5MUM2MUUwNEREIiBzdFJlZjpkb2N1bWVudElEPSJ4bXAuZGlkOjU3Q0QyMDgwMjUyMDY4MTE5OTRDOTM1MTNGNkRBODU3Ii8+IDwvcmRmOkRlc2NyaXB0aW9uPiA8L3JkZjpSREY+IDwveDp4bXBtZXRhPiA8P3hwYWNrZXQgZW5kPSJyIj8+84NovQAAAR1JREFUeNpiZEADy85ZJgCpeCB2QJM6AMQLo4yOL0AWZETSqACk1gOxAQN+cAGIA4EGPQBxmJA0nwdpjjQ8xqArmczw5tMHXAaALDgP1QMxAGqzAAPxQACqh4ER6uf5MBlkm0X4EGayMfMw/Pr7Bd2gRBZogMFBrv01hisv5jLsv9nLAPIOMnjy8RDDyYctyAbFM2EJbRQw+aAWw/LzVgx7b+cwCHKqMhjJFCBLOzAR6+lXX84xnHjYyqAo5IUizkRCwIENQQckGSDGY4TVgAPEaraQr2a4/24bSuoExcJCfAEJihXkWDj3ZAKy9EJGaEo8T0QSxkjSwORsCAuDQCD+QILmD1A9kECEZgxDaEZhICIzGcIyEyOl2RkgwAAhkmC+eAm0TAAAAABJRU5ErkJggg==)](https://orcid.org/0000-0003-3404-3220) (Department of Forest Resource Management, University of British Columbia, Vancouver, British Columbia, Canada)  \n",
    "Nicholas Coops [![](data:image/png;base64,iVBORw0KGgoAAAANSUhEUgAAABAAAAAQCAYAAAAf8/9hAAAAGXRFWHRTb2Z0d2FyZQBBZG9iZSBJbWFnZVJlYWR5ccllPAAAA2ZpVFh0WE1MOmNvbS5hZG9iZS54bXAAAAAAADw/eHBhY2tldCBiZWdpbj0i77u/IiBpZD0iVzVNME1wQ2VoaUh6cmVTek5UY3prYzlkIj8+IDx4OnhtcG1ldGEgeG1sbnM6eD0iYWRvYmU6bnM6bWV0YS8iIHg6eG1wdGs9IkFkb2JlIFhNUCBDb3JlIDUuMC1jMDYwIDYxLjEzNDc3NywgMjAxMC8wMi8xMi0xNzozMjowMCAgICAgICAgIj4gPHJkZjpSREYgeG1sbnM6cmRmPSJodHRwOi8vd3d3LnczLm9yZy8xOTk5LzAyLzIyLXJkZi1zeW50YXgtbnMjIj4gPHJkZjpEZXNjcmlwdGlvbiByZGY6YWJvdXQ9IiIgeG1sbnM6eG1wTU09Imh0dHA6Ly9ucy5hZG9iZS5jb20veGFwLzEuMC9tbS8iIHhtbG5zOnN0UmVmPSJodHRwOi8vbnMuYWRvYmUuY29tL3hhcC8xLjAvc1R5cGUvUmVzb3VyY2VSZWYjIiB4bWxuczp4bXA9Imh0dHA6Ly9ucy5hZG9iZS5jb20veGFwLzEuMC8iIHhtcE1NOk9yaWdpbmFsRG9jdW1lbnRJRD0ieG1wLmRpZDo1N0NEMjA4MDI1MjA2ODExOTk0QzkzNTEzRjZEQTg1NyIgeG1wTU06RG9jdW1lbnRJRD0ieG1wLmRpZDozM0NDOEJGNEZGNTcxMUUxODdBOEVCODg2RjdCQ0QwOSIgeG1wTU06SW5zdGFuY2VJRD0ieG1wLmlpZDozM0NDOEJGM0ZGNTcxMUUxODdBOEVCODg2RjdCQ0QwOSIgeG1wOkNyZWF0b3JUb29sPSJBZG9iZSBQaG90b3Nob3AgQ1M1IE1hY2ludG9zaCI+IDx4bXBNTTpEZXJpdmVkRnJvbSBzdFJlZjppbnN0YW5jZUlEPSJ4bXAuaWlkOkZDN0YxMTc0MDcyMDY4MTE5NUZFRDc5MUM2MUUwNEREIiBzdFJlZjpkb2N1bWVudElEPSJ4bXAuZGlkOjU3Q0QyMDgwMjUyMDY4MTE5OTRDOTM1MTNGNkRBODU3Ii8+IDwvcmRmOkRlc2NyaXB0aW9uPiA8L3JkZjpSREY+IDwveDp4bXBtZXRhPiA8P3hwYWNrZXQgZW5kPSJyIj8+84NovQAAAR1JREFUeNpiZEADy85ZJgCpeCB2QJM6AMQLo4yOL0AWZETSqACk1gOxAQN+cAGIA4EGPQBxmJA0nwdpjjQ8xqArmczw5tMHXAaALDgP1QMxAGqzAAPxQACqh4ER6uf5MBlkm0X4EGayMfMw/Pr7Bd2gRBZogMFBrv01hisv5jLsv9nLAPIOMnjy8RDDyYctyAbFM2EJbRQw+aAWw/LzVgx7b+cwCHKqMhjJFCBLOzAR6+lXX84xnHjYyqAo5IUizkRCwIENQQckGSDGY4TVgAPEaraQr2a4/24bSuoExcJCfAEJihXkWDj3ZAKy9EJGaEo8T0QSxkjSwORsCAuDQCD+QILmD1A9kECEZgxDaEZhICIzGcIyEyOl2RkgwAAhkmC+eAm0TAAAAABJRU5ErkJggg==)](https://orcid.org/0000-0002-7859-8394) (Department of Forest Resource Management, University of British Columbia, Vancouver, British Columbia, Canada)  \n",
    "Txomin Hermosilla [![](data:image/png;base64,iVBORw0KGgoAAAANSUhEUgAAABAAAAAQCAYAAAAf8/9hAAAAGXRFWHRTb2Z0d2FyZQBBZG9iZSBJbWFnZVJlYWR5ccllPAAAA2ZpVFh0WE1MOmNvbS5hZG9iZS54bXAAAAAAADw/eHBhY2tldCBiZWdpbj0i77u/IiBpZD0iVzVNME1wQ2VoaUh6cmVTek5UY3prYzlkIj8+IDx4OnhtcG1ldGEgeG1sbnM6eD0iYWRvYmU6bnM6bWV0YS8iIHg6eG1wdGs9IkFkb2JlIFhNUCBDb3JlIDUuMC1jMDYwIDYxLjEzNDc3NywgMjAxMC8wMi8xMi0xNzozMjowMCAgICAgICAgIj4gPHJkZjpSREYgeG1sbnM6cmRmPSJodHRwOi8vd3d3LnczLm9yZy8xOTk5LzAyLzIyLXJkZi1zeW50YXgtbnMjIj4gPHJkZjpEZXNjcmlwdGlvbiByZGY6YWJvdXQ9IiIgeG1sbnM6eG1wTU09Imh0dHA6Ly9ucy5hZG9iZS5jb20veGFwLzEuMC9tbS8iIHhtbG5zOnN0UmVmPSJodHRwOi8vbnMuYWRvYmUuY29tL3hhcC8xLjAvc1R5cGUvUmVzb3VyY2VSZWYjIiB4bWxuczp4bXA9Imh0dHA6Ly9ucy5hZG9iZS5jb20veGFwLzEuMC8iIHhtcE1NOk9yaWdpbmFsRG9jdW1lbnRJRD0ieG1wLmRpZDo1N0NEMjA4MDI1MjA2ODExOTk0QzkzNTEzRjZEQTg1NyIgeG1wTU06RG9jdW1lbnRJRD0ieG1wLmRpZDozM0NDOEJGNEZGNTcxMUUxODdBOEVCODg2RjdCQ0QwOSIgeG1wTU06SW5zdGFuY2VJRD0ieG1wLmlpZDozM0NDOEJGM0ZGNTcxMUUxODdBOEVCODg2RjdCQ0QwOSIgeG1wOkNyZWF0b3JUb29sPSJBZG9iZSBQaG90b3Nob3AgQ1M1IE1hY2ludG9zaCI+IDx4bXBNTTpEZXJpdmVkRnJvbSBzdFJlZjppbnN0YW5jZUlEPSJ4bXAuaWlkOkZDN0YxMTc0MDcyMDY4MTE5NUZFRDc5MUM2MUUwNEREIiBzdFJlZjpkb2N1bWVudElEPSJ4bXAuZGlkOjU3Q0QyMDgwMjUyMDY4MTE5OTRDOTM1MTNGNkRBODU3Ii8+IDwvcmRmOkRlc2NyaXB0aW9uPiA8L3JkZjpSREY+IDwveDp4bXBtZXRhPiA8P3hwYWNrZXQgZW5kPSJyIj8+84NovQAAAR1JREFUeNpiZEADy85ZJgCpeCB2QJM6AMQLo4yOL0AWZETSqACk1gOxAQN+cAGIA4EGPQBxmJA0nwdpjjQ8xqArmczw5tMHXAaALDgP1QMxAGqzAAPxQACqh4ER6uf5MBlkm0X4EGayMfMw/Pr7Bd2gRBZogMFBrv01hisv5jLsv9nLAPIOMnjy8RDDyYctyAbFM2EJbRQw+aAWw/LzVgx7b+cwCHKqMhjJFCBLOzAR6+lXX84xnHjYyqAo5IUizkRCwIENQQckGSDGY4TVgAPEaraQr2a4/24bSuoExcJCfAEJihXkWDj3ZAKy9EJGaEo8T0QSxkjSwORsCAuDQCD+QILmD1A9kECEZgxDaEZhICIzGcIyEyOl2RkgwAAhkmC+eAm0TAAAAABJRU5ErkJggg==)](https://orcid.org/0000-0002-5445-0360) (Canadian Forest Service (Pacific Forestry Centre), Natural Resources Canada, Victoria, British Columbia, Canada)  \n",
    "Chris Mulverhill [![](data:image/png;base64,iVBORw0KGgoAAAANSUhEUgAAABAAAAAQCAYAAAAf8/9hAAAAGXRFWHRTb2Z0d2FyZQBBZG9iZSBJbWFnZVJlYWR5ccllPAAAA2ZpVFh0WE1MOmNvbS5hZG9iZS54bXAAAAAAADw/eHBhY2tldCBiZWdpbj0i77u/IiBpZD0iVzVNME1wQ2VoaUh6cmVTek5UY3prYzlkIj8+IDx4OnhtcG1ldGEgeG1sbnM6eD0iYWRvYmU6bnM6bWV0YS8iIHg6eG1wdGs9IkFkb2JlIFhNUCBDb3JlIDUuMC1jMDYwIDYxLjEzNDc3NywgMjAxMC8wMi8xMi0xNzozMjowMCAgICAgICAgIj4gPHJkZjpSREYgeG1sbnM6cmRmPSJodHRwOi8vd3d3LnczLm9yZy8xOTk5LzAyLzIyLXJkZi1zeW50YXgtbnMjIj4gPHJkZjpEZXNjcmlwdGlvbiByZGY6YWJvdXQ9IiIgeG1sbnM6eG1wTU09Imh0dHA6Ly9ucy5hZG9iZS5jb20veGFwLzEuMC9tbS8iIHhtbG5zOnN0UmVmPSJodHRwOi8vbnMuYWRvYmUuY29tL3hhcC8xLjAvc1R5cGUvUmVzb3VyY2VSZWYjIiB4bWxuczp4bXA9Imh0dHA6Ly9ucy5hZG9iZS5jb20veGFwLzEuMC8iIHhtcE1NOk9yaWdpbmFsRG9jdW1lbnRJRD0ieG1wLmRpZDo1N0NEMjA4MDI1MjA2ODExOTk0QzkzNTEzRjZEQTg1NyIgeG1wTU06RG9jdW1lbnRJRD0ieG1wLmRpZDozM0NDOEJGNEZGNTcxMUUxODdBOEVCODg2RjdCQ0QwOSIgeG1wTU06SW5zdGFuY2VJRD0ieG1wLmlpZDozM0NDOEJGM0ZGNTcxMUUxODdBOEVCODg2RjdCQ0QwOSIgeG1wOkNyZWF0b3JUb29sPSJBZG9iZSBQaG90b3Nob3AgQ1M1IE1hY2ludG9zaCI+IDx4bXBNTTpEZXJpdmVkRnJvbSBzdFJlZjppbnN0YW5jZUlEPSJ4bXAuaWlkOkZDN0YxMTc0MDcyMDY4MTE5NUZFRDc5MUM2MUUwNEREIiBzdFJlZjpkb2N1bWVudElEPSJ4bXAuZGlkOjU3Q0QyMDgwMjUyMDY4MTE5OTRDOTM1MTNGNkRBODU3Ii8+IDwvcmRmOkRlc2NyaXB0aW9uPiA8L3JkZjpSREY+IDwveDp4bXBtZXRhPiA8P3hwYWNrZXQgZW5kPSJyIj8+84NovQAAAR1JREFUeNpiZEADy85ZJgCpeCB2QJM6AMQLo4yOL0AWZETSqACk1gOxAQN+cAGIA4EGPQBxmJA0nwdpjjQ8xqArmczw5tMHXAaALDgP1QMxAGqzAAPxQACqh4ER6uf5MBlkm0X4EGayMfMw/Pr7Bd2gRBZogMFBrv01hisv5jLsv9nLAPIOMnjy8RDDyYctyAbFM2EJbRQw+aAWw/LzVgx7b+cwCHKqMhjJFCBLOzAR6+lXX84xnHjYyqAo5IUizkRCwIENQQckGSDGY4TVgAPEaraQr2a4/24bSuoExcJCfAEJihXkWDj3ZAKy9EJGaEo8T0QSxkjSwORsCAuDQCD+QILmD1A9kECEZgxDaEZhICIzGcIyEyOl2RkgwAAhkmC+eAm0TAAAAABJRU5ErkJggg==)](https://orcid.org/0000-0002-2422-7432) (Department of Forest Resource Management, University of British Columbia, Vancouver, British Columbia, Canada)  \n",
    "Cole Burton [![](data:image/png;base64,iVBORw0KGgoAAAANSUhEUgAAABAAAAAQCAYAAAAf8/9hAAAAGXRFWHRTb2Z0d2FyZQBBZG9iZSBJbWFnZVJlYWR5ccllPAAAA2ZpVFh0WE1MOmNvbS5hZG9iZS54bXAAAAAAADw/eHBhY2tldCBiZWdpbj0i77u/IiBpZD0iVzVNME1wQ2VoaUh6cmVTek5UY3prYzlkIj8+IDx4OnhtcG1ldGEgeG1sbnM6eD0iYWRvYmU6bnM6bWV0YS8iIHg6eG1wdGs9IkFkb2JlIFhNUCBDb3JlIDUuMC1jMDYwIDYxLjEzNDc3NywgMjAxMC8wMi8xMi0xNzozMjowMCAgICAgICAgIj4gPHJkZjpSREYgeG1sbnM6cmRmPSJodHRwOi8vd3d3LnczLm9yZy8xOTk5LzAyLzIyLXJkZi1zeW50YXgtbnMjIj4gPHJkZjpEZXNjcmlwdGlvbiByZGY6YWJvdXQ9IiIgeG1sbnM6eG1wTU09Imh0dHA6Ly9ucy5hZG9iZS5jb20veGFwLzEuMC9tbS8iIHhtbG5zOnN0UmVmPSJodHRwOi8vbnMuYWRvYmUuY29tL3hhcC8xLjAvc1R5cGUvUmVzb3VyY2VSZWYjIiB4bWxuczp4bXA9Imh0dHA6Ly9ucy5hZG9iZS5jb20veGFwLzEuMC8iIHhtcE1NOk9yaWdpbmFsRG9jdW1lbnRJRD0ieG1wLmRpZDo1N0NEMjA4MDI1MjA2ODExOTk0QzkzNTEzRjZEQTg1NyIgeG1wTU06RG9jdW1lbnRJRD0ieG1wLmRpZDozM0NDOEJGNEZGNTcxMUUxODdBOEVCODg2RjdCQ0QwOSIgeG1wTU06SW5zdGFuY2VJRD0ieG1wLmlpZDozM0NDOEJGM0ZGNTcxMUUxODdBOEVCODg2RjdCQ0QwOSIgeG1wOkNyZWF0b3JUb29sPSJBZG9iZSBQaG90b3Nob3AgQ1M1IE1hY2ludG9zaCI+IDx4bXBNTTpEZXJpdmVkRnJvbSBzdFJlZjppbnN0YW5jZUlEPSJ4bXAuaWlkOkZDN0YxMTc0MDcyMDY4MTE5NUZFRDc5MUM2MUUwNEREIiBzdFJlZjpkb2N1bWVudElEPSJ4bXAuZGlkOjU3Q0QyMDgwMjUyMDY4MTE5OTRDOTM1MTNGNkRBODU3Ii8+IDwvcmRmOkRlc2NyaXB0aW9uPiA8L3JkZjpSREY+IDwveDp4bXBtZXRhPiA8P3hwYWNrZXQgZW5kPSJyIj8+84NovQAAAR1JREFUeNpiZEADy85ZJgCpeCB2QJM6AMQLo4yOL0AWZETSqACk1gOxAQN+cAGIA4EGPQBxmJA0nwdpjjQ8xqArmczw5tMHXAaALDgP1QMxAGqzAAPxQACqh4ER6uf5MBlkm0X4EGayMfMw/Pr7Bd2gRBZogMFBrv01hisv5jLsv9nLAPIOMnjy8RDDyYctyAbFM2EJbRQw+aAWw/LzVgx7b+cwCHKqMhjJFCBLOzAR6+lXX84xnHjYyqAo5IUizkRCwIENQQckGSDGY4TVgAPEaraQr2a4/24bSuoExcJCfAEJihXkWDj3ZAKy9EJGaEo8T0QSxkjSwORsCAuDQCD+QILmD1A9kECEZgxDaEZhICIzGcIyEyOl2RkgwAAhkmC+eAm0TAAAAABJRU5ErkJggg==)](https://orcid.org/0000-0002-8799-3847) (Department of Forest Resource Management, University of British Columbia, Vancouver, British Columbia, Canada)  \n",
    "Stephen Ban [![](data:image/png;base64,iVBORw0KGgoAAAANSUhEUgAAABAAAAAQCAYAAAAf8/9hAAAAGXRFWHRTb2Z0d2FyZQBBZG9iZSBJbWFnZVJlYWR5ccllPAAAA2ZpVFh0WE1MOmNvbS5hZG9iZS54bXAAAAAAADw/eHBhY2tldCBiZWdpbj0i77u/IiBpZD0iVzVNME1wQ2VoaUh6cmVTek5UY3prYzlkIj8+IDx4OnhtcG1ldGEgeG1sbnM6eD0iYWRvYmU6bnM6bWV0YS8iIHg6eG1wdGs9IkFkb2JlIFhNUCBDb3JlIDUuMC1jMDYwIDYxLjEzNDc3NywgMjAxMC8wMi8xMi0xNzozMjowMCAgICAgICAgIj4gPHJkZjpSREYgeG1sbnM6cmRmPSJodHRwOi8vd3d3LnczLm9yZy8xOTk5LzAyLzIyLXJkZi1zeW50YXgtbnMjIj4gPHJkZjpEZXNjcmlwdGlvbiByZGY6YWJvdXQ9IiIgeG1sbnM6eG1wTU09Imh0dHA6Ly9ucy5hZG9iZS5jb20veGFwLzEuMC9tbS8iIHhtbG5zOnN0UmVmPSJodHRwOi8vbnMuYWRvYmUuY29tL3hhcC8xLjAvc1R5cGUvUmVzb3VyY2VSZWYjIiB4bWxuczp4bXA9Imh0dHA6Ly9ucy5hZG9iZS5jb20veGFwLzEuMC8iIHhtcE1NOk9yaWdpbmFsRG9jdW1lbnRJRD0ieG1wLmRpZDo1N0NEMjA4MDI1MjA2ODExOTk0QzkzNTEzRjZEQTg1NyIgeG1wTU06RG9jdW1lbnRJRD0ieG1wLmRpZDozM0NDOEJGNEZGNTcxMUUxODdBOEVCODg2RjdCQ0QwOSIgeG1wTU06SW5zdGFuY2VJRD0ieG1wLmlpZDozM0NDOEJGM0ZGNTcxMUUxODdBOEVCODg2RjdCQ0QwOSIgeG1wOkNyZWF0b3JUb29sPSJBZG9iZSBQaG90b3Nob3AgQ1M1IE1hY2ludG9zaCI+IDx4bXBNTTpEZXJpdmVkRnJvbSBzdFJlZjppbnN0YW5jZUlEPSJ4bXAuaWlkOkZDN0YxMTc0MDcyMDY4MTE5NUZFRDc5MUM2MUUwNEREIiBzdFJlZjpkb2N1bWVudElEPSJ4bXAuZGlkOjU3Q0QyMDgwMjUyMDY4MTE5OTRDOTM1MTNGNkRBODU3Ii8+IDwvcmRmOkRlc2NyaXB0aW9uPiA8L3JkZjpSREY+IDwveDp4bXBtZXRhPiA8P3hwYWNrZXQgZW5kPSJyIj8+84NovQAAAR1JREFUeNpiZEADy85ZJgCpeCB2QJM6AMQLo4yOL0AWZETSqACk1gOxAQN+cAGIA4EGPQBxmJA0nwdpjjQ8xqArmczw5tMHXAaALDgP1QMxAGqzAAPxQACqh4ER6uf5MBlkm0X4EGayMfMw/Pr7Bd2gRBZogMFBrv01hisv5jLsv9nLAPIOMnjy8RDDyYctyAbFM2EJbRQw+aAWw/LzVgx7b+cwCHKqMhjJFCBLOzAR6+lXX84xnHjYyqAo5IUizkRCwIENQQckGSDGY4TVgAPEaraQr2a4/24bSuoExcJCfAEJihXkWDj3ZAKy9EJGaEo8T0QSxkjSwORsCAuDQCD+QILmD1A9kECEZgxDaEZhICIzGcIyEyOl2RkgwAAhkmC+eAm0TAAAAABJRU5ErkJggg==)](https://orcid.org/0000-0001-5033-3370) (BC Parks, Government of British Columbia, Victoria, British Columbia, Canada)  \n",
    "January 6, 2025"
   ],
   "id": "3c13a4d6-4f87-4497-804a-e44db1883026"
  },
  {
   "cell_type": "code",
   "execution_count": null,
   "metadata": {},
   "outputs": [],
   "source": [
    "# package citation\n",
    ".to.cite <- c(\"sgsR\",  \"terra\", \"sf\", \"rstatix\", \"tidyterra\")\n",
    "\n",
    "pkgs <- unique(c(.to.cite, .packages()))\n",
    "knitr::write_bib(pkgs, file = \"packages.bib\")"
   ],
   "id": "33115118-e7e3-43ba-aa8c-a2fe627b7853"
  },
  {
   "cell_type": "markdown",
   "metadata": {},
   "source": [
    "# Abstract\n",
    "\n",
    "Forests with high ecological integrity are incredibly important for biodiversity conservation, and provide integral ecosystem services. These forests have natural or near-natural ecosystem structure, function, and composition. Anthropogenic pressures such as habitat loss, overexploitation of natural resources, and land use changes are leading to the degradation or loss of high-integrity forests. As a result, assessing forest integrity over large areas is increasingly important for a range of conservation initiatives. Recently, we have seen an increase in the application of remote sensing data to assess a range of forest structural and functional attributes, which can provide insights into forest integrity through space and time. In this study, we use satellite-derived forest structural attributes and forest functioning metrics alongside a high-quality reference state to calculate ecological dissimilarity as a proxy for ecological integrity. We further refine our reference states by using coarsened exact matching to ensure our comparisons are drawn from suitable protected analogs. We applied these methods onto Vancouver Island, Canada, where we assessed how far, in structural and functional space, forest stands were from reference, high-integrity forests found in the island’s oldest and largest protected area. We further assess how individual and cumulative anthropogenic pressure are influencing the ecological integrity of forests on the island. We found that forest structural dissimilarity increased under high levels of anthropogenic pressures (ANOVA; p \\< 0.01), while functional dissimilarity was not impacted by any anthropogenic pressures (ANOVA; p \\> 0.05). For individual pressures, we found that built environments, harvesting, and population density influenced structural dissimilarity (ANOVA; p \\< 0.05), while roads did not influence structural dissimilarity (ANOVA; p \\> 0.05). These types of methods can be used to identify high-integrity forest ecosystems which should be prioritized for protection, or to identify areas with low levels of pressures which could benefit from restoration efforts, helping move towards the Kunming-Montreal Global Biodiversity Framework’s goal of 30% of all ecosystems protected, with a focus on high-integrity ecosystems\n",
    "\n",
    "# Introduction\n",
    "\n",
    "In the terrestrial environment, forests have been shown to possess larges amounts of biodiversity ([Cardinale et al., 2012](#ref-cardinale2012); [Myers, 1988](#ref-myers1988); [Pimm and Raven, 2000](#ref-pimm2000)) and provide key ecosystem services ([Thompson et al., 2009](#ref-thompson2009)). However, the ongoing impact of anthropogenic pressures such as climate change, overexploitation of natural resources, and invasive species are leading to forest degradation, reducing the ability of forested ecosystems to provide these services ([Thomas et al., 2004](#ref-thomas2004); [Urban, 2015](#ref-urban2015)). Therefore it is integral to maintain and conserve forests that are in good ecological condition, as defined by natural or near-natural levels of forest structure, function, and composition, often referred to as having high ecological integrity ([Marín et al., 2021](#ref-marín2021)). The importance of high-integrity ecosystems has led to a general call to move beyond simple quantification of ecosystem or forest extent in conservation strategies to other metrics which additionally consider the integrity of the conserved ecosystem ([Ferrier et al., 2024](#ref-ferrier2024); [Hansen et al., 2020](#ref-hansen2020); [Muise et al., 2022](#ref-muise2022); [Pillay et al., 2024a](#ref-pillay2024)). In December 2022, the Kunming-Montreal Global Biodiversity Framework (GBF) was adopted with the goal of restoring and safeguarding global biodiversity ([Convention on Biological Diversity, 2023](#ref-reporto2023)). Targets within this framework include restoring 30% of all degraded ecosystems, protecting 30% of the Earth’s terrestrial, inland water, and marine areas by 2030, and achieving no loss of high biodiversity importance areas, especially high ecological integrity ecosystems ([Convention on Biological Diversity, 2023](#ref-reporto2023)). However, there are currently no spatially explicitly assessments of ecological integrity available at the regional or larger scale, making progress towards these goals difficult to quantify.\n",
    "\n",
    "Assessing ecological integrity requires a comprehensive evaluation of ecosystem structure, function, and composition, which can be effectively achieved using remote sensing-derived indicators ([Pereira et al., 2013](#ref-pereira2013); [Radeloff et al., 2024](#ref-radeloff2024); [Skidmore et al., 2021](#ref-skidmore2021)). Advances in remote sensing technologies such as light detection and ranging (lidar) allow for the accurate measurement of forest structural attributes, including canopy height, canopy cover, vertical complexity, and biomass ([Bergen et al., 2009](#ref-bergen2009); [Valbuena et al., 2020](#ref-valbuena2020)). These indicators of forest structure can provide critical insights into habitat quality and the capacity of ecosystems to support biodiversity ([Gao et al., 2014](#ref-gao2014); [Guo et al., 2017](#ref-guo2017); [Macarthur and Macarthur, 1961](#ref-macarthur1961)), and are rapidly becoming available at the national scale through new modelling methods ([Matasci et al., 2018a](#ref-matasci2018); [Matasci et al., 2018b](#ref-matasci2018a); [Potapov et al., 2021](#ref-potapov2021)). Additionally, remote sensing facilitates the monitoring of functional processes, such as photosynthetic activity and forest phenology, through the use of spectral indices such as the normalized difference vegetation index (NDVI) ([Pettorelli et al., 2018](#ref-pettorelli2018), [2005](#ref-pettorelli2005)), amongst others. By integrating these indices over the course of the year, it is possible to assess the energy availability, seasonality, and stress on an ecosystem ([Radeloff et al., 2019](#ref-radeloff2019); [Razenkova, 2023](#ref-razenkova2023)), which have also been shown to be linked to biodiversity in a variety of taxa ([Andrew et al., 2024](#ref-andrew2024), [2012](#ref-andrew2012a); [Coops et al., 2019](#ref-coops2019), [2009b](#ref-coops2009ecoinfo); [Razenkova et al., 2022](#ref-razenkova2022)). Further, structural and functional indicators have been shown to have low information overlap ([Muise et al., 2024](#ref-muise2024)), thereby making it suitable use satellite-derived structural and functional indicators to assess ecological integrity across regions, countries, or even continents by comparing them to a suitable reference state ([Grantham et al., 2020](#ref-grantham2020); [Hansen et al., 2020](#ref-hansen2020)).\n",
    "\n",
    "Another key aspect of assessing ecological integrity is the reference state, typically defined as an example of an ecosystem that has not been subject major anthropogenic disturbance ([Hansen et al., 2020](#ref-hansen2020); [Nicholson et al., 2021](#ref-nicholson2021)). These reference states represent the baseline conditions of ecosystems and serve as a benchmark for assessing ecological health and guiding protection and restoration efforts ([Nielsen et al., 2007](#ref-nielsen2007)). A number of methods have been proposed for identifying reference states, including protected areas ([Arcese and Sinclair, 1997](#ref-arcese1997)), historical ([McNellie et al., 2020](#ref-mcnellie2020)), and empirical reference states ([Ferraro, 2009](#ref-ferraro2009); [Nielsen et al., 2007](#ref-nielsen2007)). Protected area reference states are commonly used because conservation efforts aim to mitigate anthropogenic pressures within protected areas ([Geldmann et al., 2019](#ref-geldmann2019)), and the bias for protected areas to be placed in areas with low amounts of anthropogenic pressures ([Joppa and Pfaff, 2009](#ref-joppa2009)) and less productive land covers ([Muise et al., 2022](#ref-muise2022)). Due to the bias in protected area placement, it is necessary to account for differences in environmental conditions and land covers when using them as a reference state, which is typically accomplished using counterfactual methods ([Ferraro, 2009](#ref-ferraro2009)), such as coarsened exact matching ([Iacus et al., 2012](#ref-iacus2012)). Using these methods it becomes possible to identify a suitable reference state for the entirety of a region, by comparing to protected areas without anthropogenic pressure under similar environmental conditions and land covers.\n",
    "\n",
    "Building on this foundation, the objective of this study is to develop and implement a spatially explicit framework for assessing ecological integrity at regional to continental scales using remote sensing data. Specifically, we aim to (1) integrate satellite-derived indicators of forest structure and function with robust counterfactual methods to establish reference states, (2) quantify deviations from these reference states as a measure of ecological degradation, and (3) demonstrate the utility of this method across a regional study area. This work addresses a critical gap in the operationalization of global biodiversity targets, such as those outlined in the GBF, by providing a scalable, reproducible approach to monitor and guide conservation and restoration efforts. By enabling the identification of areas with high ecological integrity and those most in need of restoration, this study has the potential to directly inform policy and support more effective biodiversity conservation strategies.\n",
    "\n",
    "# Methods\n",
    "\n",
    "To accomplish our objectives, we propose a novel, data-driven approach to identify high-integrity forests based on various satellite derived metrics of ecosystem condition. First, we account for differences in environmental conditions by implementing a coarsened exact matching approach ([Iacus et al., 2012](#ref-iacus2012)). This ensures that ecosystems must be similar to their protected counterparts (i.e. a forest in a valley bottom and a mountain top would not be compared to one another), which accounts for biases in protected area placement ([Joppa and Pfaff, 2009](#ref-joppa2009); [Muise et al., 2022](#ref-muise2022)). We use the sigma dissimilarity metric ([Mahony et al., 2017](#ref-mahony2017)) to calculate the similarity to high-integrity, undisturbed, forests in both structural and functional space as a metric of ecological integrity. Finally, we validate our results by assessing the impact anthropogenic pressures ([Hirsh-Pearson et al., 2022](#ref-hirsh-pearson2022)) on our similarity metric, with the assumption that increased anthropogenic pressures should increase ecological dissimilarity. We focus our study area on Vancouver Island, British Columbia, Canada, as a case study and demonstration of the method.\n",
    "\n",
    "## Study Area\n",
    "\n",
    "We focus on the forested areas of Vancouver Island, British Columbia, Canada. Vancouver Island has approximately 31,285 km<sup>2</sup> of land area, of which 79.5% is forested. The dominant forest species on Vancouver Island are Douglas-fir (*Pseudotsuga menziesii*), western red cedar (*Thuja plicata*), western hemlock (*Tsuga heterophylla*), yellow cedar (*Chamaecyparis nootkatensis*), and Sitka spruce (*Picea sitchensis*) ([Burns, 1990](#ref-burns1990)). Vancouver Island generally has a temperate maritime climate, with mild, wet winters, and cool, dry summers. There are four ecosystems on Vancouver Island as defined by British Columbia’s biogeoclimatic ecosystem classification (BEC) framework ([Pojar et al., 1987](#ref-pojar1987)), Coastal Western Hemlock (CWH), Mountain Hemlock (MH), Coastal Douglas Fir (CDF), and Coastal Mountain-heather Alpine (CMA), which are broadly delineated based on soil, climate, and elevation. Forestry is an important industry on Vancouver Island, with the majority of the land base being managed for timber production under various tenures, including private ownership ([Ministry of Water, Land and Resource Stewardship (WLRS), 2023](#ref-ministry2023)). These harvesting practices have led to a need to protect remaining high-integrity forests, and restore degraded forests. Fires on Vancouver Island have historically been infrequently and of low severity ([Daniels and Gray, 2006](#ref-daniels2006)).\n",
    "\n",
    "### Reference State\n",
    "\n",
    "Strathcona Park provided an exceptional reference state for the undisturbed forest ecosystems on Vancouver Island due to its long-standing protection and large size. Established in 1911 as the oldest and largest provincial park in British Columbia, it encompasses 2,480 km², with approximately 80% designated as wilderness and Nature Conservancy Areas under the Park Act ([“Park Act,” 1996](#ref-parkact)). These designations have ensured the preservation of natural ecological processes, leaving the park relatively free from anthropogenic disturbances over more than a century. Strathcona Park includes three of the island’s BEC zones: CWH, MH, and CMA. However, the CDF zone, limited to the southern part of Vancouver Island and subject to extensive anthropogenic alteration, is not represented within the park. As such, we do not include CDF in our analysis. By focusing on undisturbed forests within Strathcona Park as a reference state, our analysis prioritizes areas of minimal human impact and ecological continuity, providing a robust benchmark for assessing forest ecosystems in their natural state."
   ],
   "id": "d0653d90-ce73-4467-b08b-fa75d7ef7224"
  },
  {
   "cell_type": "code",
   "execution_count": null,
   "metadata": {},
   "outputs": [
    {
     "output_type": "display_data",
     "metadata": {},
     "data": {}
    }
   ],
   "source": [
    "knitr::include_graphics(\"E:/Sync/Masters/04_vi_pristine/figures/study_area.png\")"
   ],
   "id": "cell-fig-study"
  },
  {
   "cell_type": "markdown",
   "metadata": {},
   "source": [
    "## Data\n",
    "\n",
    "### Forest Structure\n",
    "\n",
    "We utilize four forest structural attributes; canopy height, canopy cover, structural complexity, and aboveground biomass. Canopy height, canopy cover, structural complexity are standardized lidar-derived metrics suitable for biodiversity monitoring at the ecosystem scale ([Valbuena et al., 2020](#ref-valbuena2020)). These are commonly used to assess patterns of structure in the vertical and horizontal directions within a single stand, rather than across a landscape, with these stand level metrics being linked to habitat, and thus, biodiversity ([Bergen et al., 2009](#ref-bergen2009); [Gao et al., 2014](#ref-gao2014); [Macarthur and Macarthur, 1961](#ref-macarthur1961)). The fourth attribute, aboveground biomass, represents the key ecosystem service of carbon sequestration ([Duncanson et al., 2023](#ref-duncanson2023); [Naidoo and Ricketts, 2006](#ref-naidoo2006)), and is likely moderated by the three lidar-derived variables ([Ali, 2019](#ref-ali2019)).\n",
    "\n",
    "These four forest structural attributes were generated in a wall-to-wall fashion at a 30 m spatial resolution by Matasci et al. ([2018a](#ref-matasci2018)) for the year 2015 using a random forest-kNN approach, that imputes lidar-derived forest structural attributes across Canada’s forested ecosystems using Landsat-derived best-available-pixel (BAP) composites ([Hermosilla et al., 2016](#ref-hermosilla2016); [White et al., 2014](#ref-white2014)) and topographic information ([Matasci et al., 2018a](#ref-matasci2018); [Matasci et al., 2018b](#ref-matasci2018a)). The BAP composites were generated by selecting surface reflectance observations from the Landsat archive over the course of Canada’s growing season (August 1<sup>st</sup> ± 30 days), avoiding atmospheric effects including haze, clouds, and cloud shadows These composites were further refined by using a spectral trend analysis remove noise and infill data gaps ([Hermosilla et al., 2015](#ref-hermosilla2015)). Accuracy metrics for the forest structural attributes ranged from an RMSE of 29.7% (structural complexity) to 65.8% (aboveground biomass) and R<sup>2</sup> values of 0.70 (aboveground biomass) to 0.13 (structural complexity).\n",
    "\n",
    "### Forest Function\n",
    "\n",
    "To represent forest ecosystem function, we use the Dynamic Habitat Indices (DHIs) dataset, a suite of intra-annual summaries of energy (as represented by a vegetation index or estimate of gross/net primary productivity) availability ([Radeloff et al., 2019](#ref-radeloff2019)). Single time points of energy availability have commonly been used as indicators of ecosystem functioning ([Pettorelli et al., 2018](#ref-pettorelli2018), [2005](#ref-pettorelli2005)), and the DHIs advance upon these snapshots by generating yearly summaries of energy availability, thus more strongly linking these metrics to ecosystem functioning. The DHIs are composed of the total available energy over the course of a year (Cumulative DHI), the minimum amount of energy available over the course of a year (Minimum DHI), and the variation in energy available over the course of a year (Variation DHI). The DHIs have been shown to be indicative of ecosystem functioning, as they represent energy availability and seasonality ([Berry et al., 2007](#ref-berry2007)), and biodiversity over a range of scales ([Radeloff et al., 2019](#ref-radeloff2019); [Razenkova et al., 2022](#ref-razenkova2022)), extents ([Coops et al., 2019](#ref-coops2019), [2009a](#ref-WOS:000265076300011)) and taxa ([Michaud et al., 2014](#ref-razenkovaMoose); [Suttidate et al., 2021](#ref-suttidateConn)).\n",
    "\n",
    "We calculated the DHIs at a 30 m spatial resolution using Landsat data, following the methodology of Razenkova ([2023](#ref-razenkova2023)). The DHIs were computed on Google Earth Engine ([Gorelick et al., 2017](#ref-gorelick2017)) by creating a synthetic year of monthly NDVI composites using all available Landsat imagery from 2011-2020 (centred on 2015). We used the Landsat QA band ([Zhu and Woodcock, 2012](#ref-zhu2012)) to filter pixels with clouds and cloud shadows. Monthly NDVI values were calculated by taking the median of each month’s NDVI observations, ignoring the year the image was acquired. This resulted in DHIs at 30 m spatial resolution ([Razenkova, 2023](#ref-razenkova2023)). The DHIs are calculated as the sum (Cumulative DHI), minimum (Minimum DHI), and coefficient of variation (Variation DHI) of these monthly observations. In this study, we focus on the Cumulative and Variation DHIs, as the minimum DHI is consistently 0 due to the presence of snow during winter in our study area.\n",
    "\n",
    "### Anthropogenic Pressures\n",
    "\n",
    "We used the Canadian Human Footprint as developed by Hirsh-Pearson et al. ([2022](#ref-hirsh-pearson2022)) to indicate anthropogenic pressures on the environment. The Canadian Human Footprint is an additive pressure map generated by summing the 12 different anthropogenic pressures (built environments, crop land, pasture land, population density, nighttime lights, railways, roads, navigable waterways, dams and associated reservoirs, mining activity, oil and gas, and forestry), which ranges from zero to 55 for any cell across Canada. This cumulative dataset is also distributed with Canada-wide individual pressure values ([Hirsh-Pearson et al., n.d.](#ref-hirsh-pearson)). We use the anthropogenic pressure layers to define our reference state by excluding pixels with any amount of anthropogenic pressure in Strathcona Park, and also assess the impact of anthropogenic pressures on ecological integrity. Here, we focus on the overall cumulative pressure map and four individual pressures: population density, built environments, roads, and forestry. We selected these four as other pressures (oil and gas; railroads) are not present on Vancouver Island, while pasture land and crop land do not coincide with currently forested areas. We reclassify the Canadian Human Footprint ([Hirsh-Pearson et al., n.d.](#ref-hirsh-pearson); [Hirsh-Pearson et al., 2022](#ref-hirsh-pearson2022)) into categorical data following Hirsh-Pearson et al. ([2022](#ref-hirsh-pearson2022)) and Arias-Patino et al. ([2024](#ref-arias-patino2024)): a value of zero is considered intact, zero to four has low anthropogenic pressure, four to eight has medium anthropogenic pressure, and above eight has high anthropogenic pressure.\n",
    "\n",
    "### Covariates\n",
    "\n",
    "In order to ensure that we were identifying suitable reference states, we matched undisturbed forest areas within Strathcona Park with forested areas outside the park based on topographic and climatic features. We use a 30 m digital elevation model and derived slope dataset from the Advanced Spaceborne Thermal Emission and Reflection Radiometer (ASTER) Version 3 GDEM product ([Abrams et al., 2020](#ref-abrams2020)). We also used four climate variables; mean annual precipitation (MAP), mean annual temperature (MAT), mean warmest month temperature (MWMT), and mean coldest month temperature (MCMT) calculated from 1990-2020 climate normals using the ClimateNA software package at a 1 km spatial resolution, and downsampled to 30 m using cubic spline resampling in the **terra** (version 1.7-71) R package ([Hijmans, 2024](#ref-R-terra)) in R ([R Core Team, 2024](#ref-R-base) version 4.4.1). A visualization of one of each input dataset can be found in <a href=\"#fig-data\" class=\"quarto-xref\">Figure 2</a>."
   ],
   "id": "c37f94e3-2d58-4763-b93b-3645ebd1c99a"
  },
  {
   "cell_type": "code",
   "execution_count": null,
   "metadata": {},
   "outputs": [
    {
     "output_type": "display_data",
     "metadata": {},
     "data": {}
    }
   ],
   "source": [
    "knitr::include_graphics(\"E:/Sync/Masters/04_vi_pristine/figures/data_figure.png\")"
   ],
   "id": "cell-fig-data"
  },
  {
   "cell_type": "markdown",
   "metadata": {},
   "source": [
    "## Calculating Ecological Dissimilarity\n",
    "\n",
    "We calculated the sigma dissimilarity ([Mahony et al., 2017](#ref-mahony2017)) of forested pixels across our study area by using an expanded coarsened exact matching (CEM) technique ([Iacus et al., 2012](#ref-iacus2012)) (<a href=\"#fig-flow\" class=\"quarto-xref\">Figure 3</a>) for each forest type (broadleaf, coniferous, mixed wood, and wetland-treed) ([Hermosilla et al., 2018](#ref-hermosilla2018)). The CEM technique creates comparable groups of observations across covariates by initially coarsening the covariates. In this instance, all six covariates (elevation, slope, mean annual precipitation, mean annual temperature, mean coldest month temperature, and mean warmest month temperature) were coarsened into five quintiles, hereafter referred to as bins. CEM then performs exact matching on the bins, with each pixel matched to a climatically and topographically similar group of pixels within the reference state (i.e. Strathcona Park), hereafter referred to as stratum. If inusfficient numbers of matched pixels were found in the reference state, we calculated the stratum’s nearest neighbour across covariate bins, and sampled up to 100 pixels, while minimizing the nearest neighbour distance. If the average nearest neighbour distance was greater than two, that stratum was excluded from the analysis."
   ],
   "id": "fdc1ffb2-a8af-468c-bf7e-8c565134a28b"
  },
  {
   "cell_type": "code",
   "execution_count": null,
   "metadata": {},
   "outputs": [
    {
     "output_type": "display_data",
     "metadata": {},
     "data": {}
    }
   ],
   "source": [
    "knitr::include_graphics(\"E:/Sync/Masters/04_vi_pristine/figures/flow.drawio.png\")"
   ],
   "id": "cell-fig-flow"
  },
  {
   "cell_type": "markdown",
   "metadata": {},
   "source": [
    "Following the matching procedure, we identified reference states as undisturbed (human footprint = 0; no fire or harvesting disturbance) ([Hermosilla et al., 2015](#ref-hermosilla2015); [Hirsh-Pearson et al., 2022](#ref-hirsh-pearson2022)) pixels by stratum within Strathcona Park. We then determine the dissimilarity of all pixels, in structural, functional, and structural + functional attributes, to the reference states by calculating the sigma dissimilarity metric. Sigma dissimilarity standardizes the Mahalanobian distance ([Mahalanobis, 1936](#ref-mahalanobis1936generalized)) by rescaling it into percentiles of the chi distribution to account for the effect of dimensionality when creating a multivariate dissimilarity metric ([Mahony et al., 2017](#ref-mahony2017)). We calculated sigma dissimilarity for every stratum with a suitable reference state as generated by our matching procedure. This dissimilarity metric effectively functions as a multivariate proxy for ecological integrity, with higher values indicating a larger difference from near natural conditions found within the reference state.\n",
    "\n",
    "## Impacts of anthropogenic pressure on ecological dissimilarity\n",
    "\n",
    "To assess the cumulative impact of anthropogenic pressure on ecological dissimilarity, we implement stratified sampling on all suitable stratum, sampling 100 samples from each anthropogenic pressure class. For our individual pressures, we sampled an additional 100 samples for each pressure class. Sampling was performed using the **sgsR** (version 1.4.5) R package ([Goodbody et al., 2023](#ref-goodbody2023)) with the Quiennec method ([Queinnec et al., 2021](#ref-queinnec2021)). Geospatial data processing was performed using the **terra** (version 1.7-78) ([Hijmans, 2024](#ref-R-terra)), **sf** (version 1.0-16) ([Pebesma, 2018](#ref-sf2018); [Pebesma and Bivand, 2023](#ref-sf2023)), and **tidyterra** (version 0.6.1) ([Hernangómez, 2023](#ref-R-tidyterra)) R packages.\n",
    "\n",
    "We used a one-way analysis of variance (ANOVA) with a critical p value of 0.05 to identify statistically significant differences in the mean similarity values across cumulative anthropogenic pressure classes. We account for family-wise error rate in our ANOVAs using the Holm-Bonferroni method ([Holm, 1979](#ref-holm1979)), only continuing the analysis for similarity variables with significant ANOVAs at the adjusted critical value. We used a Tukey HSD post-hoc test to identify which means are different from the control group (intact pixels), which also controls for the family-wise error rate.\n",
    "\n",
    "We follow the same protocol to identify the difference in means for each anthropogenic pressure of interest (roads, population density, forestry, and built environment). We compare each pressure to the same ‘no pressure’ values sampled in the cumulative pressure analysis. All statistical analysis were conducted using the **rstatix** (version 0.7.2) R package ([Kassambara, 2023](#ref-R-rstatix)).\n",
    "\n",
    "# Results\n",
    "\n",
    "We generated maps of sigma dissimilarity for ecosystem structure, function, and structure + function across Vancouver Island as a measure of ecological integrity (<a href=\"#fig-regional\" class=\"quarto-xref\">Figure 4</a>). We show three representative examples within Vancouver Island to display the impact of anthropogenic pressures on ecosystem similarity, displaying a region near Lake Cowichan where harvesting is a common pressure (<a href=\"#fig-regional\" class=\"quarto-xref\">Figure 4</a> A), a protected area (Elk Falls Provincial Park) near Campbell River with high population density (<a href=\"#fig-regional\" class=\"quarto-xref\">Figure 4</a> B), and a region with lower anthropogenic pressures (<a href=\"#fig-regional\" class=\"quarto-xref\">Figure 4</a> C). Functional dissimilarity shows higher variation across all three sites than functional or structural and functional dissimilarity. The protected region near Campbell River (<a href=\"#fig-regional\" class=\"quarto-xref\">Figure 4</a> B) has lower dissimilarity metrics for all three metrics."
   ],
   "id": "d3aa379c-ec72-4e26-a80b-c611d0f93328"
  },
  {
   "cell_type": "code",
   "execution_count": null,
   "metadata": {},
   "outputs": [
    {
     "output_type": "display_data",
     "metadata": {},
     "data": {}
    }
   ],
   "source": [
    "knitr::include_graphics(\"E:/Sync/Masters/04_vi_pristine/figures/multi_panel_inset_wide_PS.png\")"
   ],
   "id": "cell-fig-regional"
  },
  {
   "cell_type": "markdown",
   "metadata": {},
   "source": [
    "We used ANOVAs and post-hoc Tukey HSD tests to assess the influence of the cumulative human footprint on ecological dissimilarity (<a href=\"#fig-boxplot-overall\" class=\"quarto-xref\">Figure 5</a>) . Results indicate that structural (ANOVA; p = 0.014) and structural + functional (ANOVA; p = 0.006) dissimilarity was significantly different under varying anthropogenic pressures. The functional dissimilarity metric did not significantly vary with anthropogenic pressures. The Tukey HSD test revealed that high levels of anthropogenic pressures significantly influence dissimilarity to the structural (ANOVA; p \\< 0.01) and structural + functional (ANOVA; p \\< 0.05) reference state. Medium and low levels of anthropogenic pressures did not significantly influence any dissimilarity metrics."
   ],
   "id": "4daf8f0f-435a-44ce-bd34-7728eebfe258"
  },
  {
   "cell_type": "code",
   "execution_count": null,
   "metadata": {},
   "outputs": [
    {
     "output_type": "display_data",
     "metadata": {},
     "data": {}
    }
   ],
   "source": [
    "knitr::include_graphics(\"E:/Sync/Masters/04_vi_pristine/figures/mahal_boxplot_sig.png\")"
   ],
   "id": "cell-fig-boxplot-overall"
  },
  {
   "cell_type": "markdown",
   "metadata": {},
   "source": [
    "Further we assessed the impact of individual pressures on ecological dissimilarity to the reference state (<a href=\"#fig-boxplot-individual\" class=\"quarto-xref\">Figure 6</a>). We found that functional dissimilarity was not significantly influenced by any anthropogenic pressures, and that roads did not influence any type of ecological dissimilarity (ANOVAs; all p \\> 0.05). Population density, forestry and harvesting, and built environments did significantly increase both structural and structural + functional dissimilarity (ANOVAs; all p \\< 0.01). Only the highest levels of pressures for each anthropogenic pressure category significantly influenced ecological dissimilarity (ANOVAs; all p \\< 0.01)."
   ],
   "id": "559d209e-b0e8-414c-848b-421e69b0dc8b"
  },
  {
   "cell_type": "code",
   "execution_count": null,
   "metadata": {},
   "outputs": [
    {
     "output_type": "display_data",
     "metadata": {},
     "data": {}
    }
   ],
   "source": [
    "knitr::include_graphics(\"E:/Sync/Masters/04_vi_pristine/figures/indiv_boxplots.png\")"
   ],
   "id": "cell-fig-boxplot-individual"
  },
  {
   "cell_type": "markdown",
   "metadata": {},
   "source": [
    "# Discussion\n",
    "\n",
    "Here, we propose a novel approach to assess ecological integrity across forested ecosystems. Our method incorporates an expanded coarsened exact matching technique ([Iacus et al., 2012](#ref-iacus2012)) and a multidimensional dissimilarity metric ([Mahony et al., 2017](#ref-mahony2017)). This method integrates a robust method for generating suitable reference states through the use of a large, long-term protected area, and excluding any pressures and disturbances, and estimates ecological integrity as dissimilarity to the reference state by using the sigma dissimilarity metric, which accounts for covariations in the data and varying dimensionality in input datasets. The methodology is demonstrated on the forested areas of Vancouver Island, which are environmentally similar to the reference state, Strathcona Park. Furthermore, the influence of anthropogenic pressure on ecological integrity is assessed. It was found that high levels of anthropogenic pressure increase structural and structural + functional dissimilarity, thus showing a reduction in ecological integrity (<a href=\"#fig-boxplot-overall\" class=\"quarto-xref\">Figure 5</a>; <a href=\"#fig-boxplot-individual\" class=\"quarto-xref\">Figure 6</a>). However, functional dissimilarity was never influenced by anthropogenic pressures.\n",
    "\n",
    "Our structural dissimilarity metric is similar to other metrics of forest condition, such as the forest structural condition index ([Hansen et al., 2019](#ref-hansen2019)), however, it is not reliant on expert-set thresholds. This potentially allows our metric to be transferable to new ecosystems and environments, even allowing for the assessment of dissimilarity for other ecosystems or a species’ core ranges by changing the reference state. This could be important for conservation efforts of rare and threatened species. Further, we found that high cumulative anthropogenic pressures increases structural dissimilarity (<a href=\"#fig-boxplot-overall\" class=\"quarto-xref\">Figure 5</a>), and that high individual pressures, except roads, also increase structural dissimilarty (<a href=\"#fig-boxplot-individual\" class=\"quarto-xref\">Figure 6</a>). Prior research has generally focused on tropical forests, where Bourgoin et al. ([2024](#ref-bourgoin2024)) found that anthropogenic forest degradation influenced aboveground biomass and canopy height, however, they focus on edge effects, fire, and selective logging, rather than cumulative and individual anthropogenic pressures. Li et al. ([2023](#ref-li2023)) also found a global impact of anthropogenic pressures on forest structural density; however, they do not explore which facets of anthropogenic pressure are the strongest driver of forest degradation. Hansen et al. ([2020](#ref-hansen2020)) integrate forest structure and anthropogenic pressure into the forest structural integrity index to identify forest stands of high ecological value (high structural quality; low anthropogenic footprint). We further this body of research by assessing individual pressures on a multivariate metric of structural similarity to a high-quality reference state (<a href=\"#fig-boxplot-individual\" class=\"quarto-xref\">Figure 6</a>). While we assess impacts of pressures on structural dissimilarity, integrating them together, similar to Hansen et al. ([2020](#ref-hansen2020)), could help with protected area prioritization efforts outside of moist tropical forests.\n",
    "\n",
    "We also assess functional dissimilarity to high-integrity forests. We found that functional dissimilarity more strongly varies than structural dissimilarity (<a href=\"#fig-regional\" class=\"quarto-xref\">Figure 4</a>). However, we did not find any significant influence of cumulative or individual anthropogenic pressures on our forest functioning metrics (<a href=\"#fig-boxplot-overall\" class=\"quarto-xref\">Figure 5</a>; <a href=\"#fig-boxplot-individual\" class=\"quarto-xref\">Figure 6</a>). This may in part be due to the DHIs reliance on vegetation indices or productivity estimates, in our case NDVI. Vegetation indices have been shown to saturate at high levels of canopy cover and leaf area index ([Huete et al., 2002](#ref-huete2002); [Huete et al., 1997](#ref-huete1997)), which are common in our study area. Recent research has shown that seasonality, here represented as the Variation DHI, drives functional diversity in avian assemblages, however, these results also strongly varied by region ([Keyser et al., 2024](#ref-keyser2024)). It is possible that examining anthropogenic pressure impacts in regions with more variation in canopy cover and stronger seasonality may lead to differing results, as Vancouver Island has a moderate climate, and is primarily dominated by conifer species <a href=\"#sec-study\" class=\"quarto-xref\">Section 3.1</a>.\n",
    "\n",
    "We identified high-integrity forest reference states across a large region using a data-driven approach. Often, it is common for suitable reference states to be unavailable due to a lack of data on regions of high ecological integrity, especially across large regions ([McNellie et al., 2020](#ref-mcnellie2020)). We attempt to circumvent this by using a large, long-established protected area (Strathcona Provincial Park; <a href=\"#fig-study\" class=\"quarto-xref\">Figure 1</a>), and a matching technique that preserves environmental similarity between reference states and their counterparts. The long-established, large protected area ensures that little anthropogenic pressures or modification have been made to the landscape, while also guaranteeing that the reference state is attainable for a given topography and climate ([Corlett, 2016](#ref-corlett2016); [Hobbs et al., 2014](#ref-hobbs2014)) due to contemporary nature of the reference state. Our matching technique (coarsened exact matching, combined with a nearest neighbour approach when no exact match is available) allows us to generate reference states in a near wall-to-wall fashion, which ensures environmental consistency between reference state and compared pixels.\n",
    "\n",
    "Our techniques move beyond traditional impact evaluation techniques ([Ferraro, 2009](#ref-ferraro2009)) commonly used in protected area effectiveness assessments by generating spatially explicit maps of ecological dissimilarity, and generating a multivariate, rather than univariate, assessment of similarity to high ecological integrity forests. While our methods use a data-driven approach to derive reference states using a high-quality protected area, the method is inherently reference state agnostic. Dissimilarity metrics could be generated for a specific ecosystem, species, or community at landscape scales, identifying areas with similar structural and functional conditions. This could be especially relevant for species with known habitat requirements, such as the marbled murrelet (*Brachyramphus marmoratus*) needing tall, complex forests as nesting habitat ([Cosgrove et al., 2024](#ref-cosgrove2024))\n",
    "\n",
    "Assessing individual pressure influences on the environment is also relevant to questions of how cumulative anthropogenic pressure maps are calculated. There is an ongoing debate surrounding anthropogenic pressure mapping methods, as there is little information on mechanistic interactions between pressures ([Arias-Patino et al., 2024](#ref-arias-patino2024)). We assess individual pressures on ecological dissimilarity in forests across Vancouver Island, Canada, an advancement upon the current standard of using a single value of cumulative anthropogenic pressure ([Bourgoin et al., 2024](#ref-bourgoin2024); [Li et al., 2023](#ref-li2023)). Similar methods could be used to examine mechanistic pressure interactions across large scales by examining combinations of pressures rather than individual or overall impacts.\n",
    "\n",
    "# Conclusion\n",
    "\n",
    "Identifying the location of high-integrity forests is integral to conservation efforts, especially when considering protected area management ([Hansen et al., 2021](#ref-hansen2021); [Pillay et al., 2024a](#ref-pillay2024)). Until recently, area based conservation has dominated management strategies, which does not ensure that high-integrity ecosystems, typically having high biodiversity and ecosystem services present, are protected ([Ferrier et al., 2024](#ref-ferrier2024); [Pillay et al., 2024a](#ref-pillay2024)). Recent efforts to identify high-integrity forests have been primarily focused on moist tropical forests ([Hansen et al., 2019](#ref-hansen2019)), which contain large numbers of threatened species reliant on intact forest structures ([Pillay et al., 2024b](#ref-pillay2024a)). Due to their focus on moist tropical forests, their methodology cannot easily be transferred to other forested ecosystems, particularly due to their focus on tall, complex trees ([Hansen et al., 2019](#ref-hansen2019)) without considering local environmental conditions. Here, we use matching techniques to circumvent this, and use sigma dissimilarity to consider additional structural and functional information, allowing us to identify high-integrity forests without relying on expert defined thresholds which may not be suitable or available in all biomes. This advance can be used to conservation planning strategies, as we work towards the 30x30 goal outlined in the GBF ([Convention on Biological Diversity, 2023](#ref-reporto2023)).\n",
    "\n",
    "# Acknowledgements\n",
    "\n",
    "This research was funded by NSERC support of Coops (RGPIN-2024-04402). Remote sensing data products used in this research are free and open and available for download at <https://ca.nfis.org/maps_eng.html>. The authors thank Dr. Michael A. Wulder and Dr. Joanne C. White for development and early access to these National Terrestrial Ecosystem Mapping System (NTEMS) products. They thank Dr. Elena Razenkova for early access to the Landsat-derived Dynamic Habitat Indices. ERM would like to thank the members of the IRSS for many helpful conversations throughout the preparation of this manuscript.\n",
    "\n",
    "# Ethics\n",
    "\n",
    "The authors declare no conflicts of interest."
   ],
   "id": "098e2071-0279-496f-a87f-991360cdb531"
  },
  {
   "cell_type": "markdown",
   "metadata": {},
   "source": [
    "# References\n",
    "\n",
    "Abrams, M., Crippen, R., Fujisada, H., 2020. ASTER Global Digital Elevation Model (GDEM) and ASTER Global Water Body Dataset (ASTWBD). Remote Sensing 12, 1156. <https://doi.org/10.3390/rs12071156>\n",
    "\n",
    "Ali, A., 2019. Forest stand structure and functioning: Current knowledge and future challenges. Ecological Indicators 98, 665–677. <https://doi.org/10.1016/j.ecolind.2018.11.017>\n",
    "\n",
    "Andrew, M.E., Bolton, D.K., Rickbeil, G.J.M., Coops, N.C., 2024. Facets of functional diversity support niche-based explanations for Australian biodiversity gradients. Journal of Biogeography 51, 467–482. <https://doi.org/10.1111/jbi.14770>\n",
    "\n",
    "Andrew, M.E., Wulder, M.A., Coops, N.C., Baillargeon, G., 2012. Beta-diversity gradients of butterflies along productivity axes. Global Ecology and Biogeography 21, 352–364. <https://doi.org/10.1111/j.1466-8238.2011.00676.x>\n",
    "\n",
    "Arcese, P., Sinclair, A.R.E., 1997. The role of protected areas as ecological baselines. The Journal of Wildlife Management 61, 587–602. <https://doi.org/10.2307/3802167>\n",
    "\n",
    "Arias-Patino, M., Johnson, C.J., Schuster, R., Wheate, R.D., Venter, O., 2024. Accuracy, uncertainty, and biases in cumulative pressure mapping. Ecological Indicators 166, 112407. <https://doi.org/10.1016/j.ecolind.2024.112407>\n",
    "\n",
    "Bergen, K.M., Goetz, S.J., Dubayah, R.O., Henebry, G.M., Hunsaker, C.T., Imhoff, M.L., Nelson, R.F., Parker, G.G., Radeloff, V.C., 2009. Remote sensing of vegetation 3-d structure for biodiversity and habitat: Review and implications for lidar and radar spaceborne missions. Journal of Geophysical Research-Biogeosciences 114, G00E06. <https://doi.org/10.1029/2008JG000883>\n",
    "\n",
    "Berry, S., Mackey, B., Brown, T., 2007. Potential applications of remotely sensed vegetation greenness to habitat analysis and the conservation of dispersive fauna. Pacific Conservation Biology 13, 120–127. <https://doi.org/10.1071/PC070120>\n",
    "\n",
    "Bourgoin, C., Ceccherini, G., Girardello, M., Vancutsem, C., Avitabile, V., Beck, P.S.A., Beuchle, R., Blanc, L., Duveiller, G., Migliavacca, M., Vieilledent, G., Cescatti, A., Achard, F., 2024. Human degradation of tropical moist forests is greater than previously estimated. Nature 631, 570–576. <https://doi.org/10.1038/s41586-024-07629-0>\n",
    "\n",
    "Burns, R.M., 1990. Silvics of North America. U.S. Department of Agriculture, Forest Service.\n",
    "\n",
    "Cardinale, B.J., Duffy, J.E., Gonzalez, A., Hooper, D.U., Perrings, C., Venail, P., Narwani, A., Mace, G.M., Tilman, D., Wardle, D.A., Kinzig, A.P., Daily, G.C., Loreau, M., Grace, J.B., Larigauderie, A., Srivastava, D.S., Naeem, S., 2012. Biodiversity loss and its impact on humanity. Nature 486, 59–67. <https://doi.org/10.1038/nature11148>\n",
    "\n",
    "Convention on Biological Diversity, 2023. Report of the conference of the parties to the Convention on Biological Diversity on the second part of its fifteenth meeting (No. CBD/COP/15/17).\n",
    "\n",
    "Coops, N.C., Bolton, D.K., Hobi, M.L., Radeloff, V.C., 2019. Untangling multiple species richness hypothesis globally using remote sensing habitat indices. Ecological Indicators 107. <https://doi.org/10.1016/j.ecolind.2019.105567>\n",
    "\n",
    "Coops, N.C., Waring, R.H., Wulder, M.A., Pidgeon, A.M., Radeloff, V.C., 2009a. Bird diversity: A predictable function of satellite-derived estimates of seasonal variation in canopy light absorbance across the United States. Journal of Biogeography 36, 905–918. <https://doi.org/10.1111/j.1365-2699.2008.02053.x>\n",
    "\n",
    "Coops, N.C., Wulder, M.A., Iwanicka, D., 2009b. Demonstration of a satellite-based index to monitor habitat at continental-scales. Ecological Informatics 9, 948–958. <https://doi.org/10.1016/j.ecolind.2008.11.003>\n",
    "\n",
    "Corlett, R.T., 2016. Restoration, reintroduction, and rewilding in a changing world. Trends in Ecology & Evolution 31, 453–462. <https://doi.org/10.1016/j.tree.2016.02.017>\n",
    "\n",
    "Cosgrove, C.F., Coops, N.C., Waterhouse, F.L., Goodbody, T.R.H., 2024. Modeling marbled murrelet nesting habitat: A quantitative approach using airborne laser scanning data in british columbia, canada. Avian Conservation and Ecology 19. <https://doi.org/10.5751/ACE-02585-190105>\n",
    "\n",
    "Daniels, L.D., Gray, R.W., 2006. Disturbance regimes in coastal British Columbia. Journal of Ecosystems and Management 7. <https://doi.org/10.22230/jem.2006v7n2a542>\n",
    "\n",
    "Duncanson, L., Liang, M., Leitold, V., Armston, J., Krishna Moorthy, S.M., Dubayah, R., Costedoat, S., Enquist, B.J., Fatoyinbo, L., Goetz, S.J., Gonzalez-Roglich, M., Merow, C., Roehrdanz, P.R., Tabor, K., Zvoleff, A., 2023. The effectiveness of global protected areas for climate change mitigation. Nature Communications 14, 2908. <https://doi.org/10.1038/s41467-023-38073-9>\n",
    "\n",
    "Ferraro, P.J., 2009. Counterfactual thinking and impact evaluation in environmental policy. New Directions for Evaluation 2009, 75–84. <https://doi.org/10.1002/ev.297>\n",
    "\n",
    "Ferrier, S., Ware, C., Austin, J.M., Grantham, H.S., Harwood, T.D., Watson, J.E.M., 2024. Ecosystem extent is a necessary but not sufficient indicator of the state of global forest biodiversity. Conservation Letters 17, e13045. <https://doi.org/10.1111/conl.13045>\n",
    "\n",
    "Gao, T., Hedblom, M., Emilsson, T., Nielsen, A.B., 2014. The role of forest stand structure as biodiversity indicator. Forest Ecology and Management 330, 82–93. <https://doi.org/10.1016/j.foreco.2014.07.007>\n",
    "\n",
    "Geldmann, J., Manica, A., Burgess, N.D., Coad, L., Balmford, A., 2019. A global-level assessment of the effectiveness of protected areas at resisting anthropogenic pressures. Proceedings of the National Academy of Sciences 116, 23209–23215. <https://doi.org/10.1073/pnas.1908221116>\n",
    "\n",
    "Goodbody, T.R.H., Coops, N.C., Queinnec, M., White, J.C., Tompalski, P., Hudak, A.T., Auty, D., Valbuena, R., LeBoeuf, A., Sinclair, I., McCartney, G., Prieur, J.-F., Woods, M.E., 2023. sgsR: A structurally guided sampling toolbox for LiDAR-based forest inventories. Forestry: An International Journal of Forest Research 96, 411–424. <https://doi.org/10.1093/forestry/cpac055>\n",
    "\n",
    "Gorelick, N., Hancher, M., Dixon, M., Ilyushchenko, S., Thau, D., Moore, R., 2017. Google Earth Engine: Planetary-scale geospatial analysis for everyone. Remote Sensing of Environment, Big Remotely Sensed Data: tools, applications and experiences 202, 18–27. <https://doi.org/10.1016/j.rse.2017.06.031>\n",
    "\n",
    "Grantham, H.S., Duncan, A., Evans, T.D., Jones, K.R., Beyer, H.L., Schuster, R., Walston, J., Ray, J.C., Robinson, J.G., Callow, M., Clements, T., Costa, H.M., DeGemmis, A., Elsen, P.R., Ervin, J., Franco, P., Goldman, E., Goetz, S., Hansen, A., Hofsvang, E., Jantz, P., Jupiter, S., Kang, A., Langhammer, P., Laurance, W.F., Lieberman, S., Linkie, M., Malhi, Y., Maxwell, S., Mendez, M., Mittermeier, R., Murray, N.J., Possingham, H., Radachowsky, J., Saatchi, S., Samper, C., Silverman, J., Shapiro, A., Strassburg, B., Stevens, T., Stokes, E., Taylor, R., Tear, T., Tizard, R., Venter, O., Visconti, P., Wang, S., Watson, J.E.M., 2020. Anthropogenic modification of forests means only 40. Nature Communications 11, 5978. <https://doi.org/10.1038/s41467-020-19493-3>\n",
    "\n",
    "Guo, X., Coops, N.C., Tompalski, P., Nielsen, S.E., Bater, C.W., John Stadt, J., 2017. Regional mapping of vegetation structure for biodiversity monitoring using airborne lidar data. Ecological Informatics 38, 50–61. <https://doi.org/10.1016/j.ecoinf.2017.01.005>\n",
    "\n",
    "Hansen, A., Barnett, K., Jantz, P., Phillips, L., Goetz, S.J., Hansen, M., Venter, O., Watson, J.E.M., Burns, P., Atkinson, S., Rodríguez-Buritica, S., Ervin, J., Virnig, A., Supples, C., De Camargo, R., 2019. Global humid tropics forest structural condition and forest structural integrity maps. Scientific Data 6, 232. <https://doi.org/10.1038/s41597-019-0214-3>\n",
    "\n",
    "Hansen, A.J., Burns, P., Ervin, J., Goetz, S.J., Hansen, M., Venter, O., Watson, J.E.M., Jantz, P.A., Virnig, A.L.S., Barnett, K., Pillay, R., Atkinson, S., Supples, C., Rodríguez-Buritica, S., Armenteras, D., 2020. A policy-driven framework for conserving the best of Earth’s remaining moist tropical forests. Nature Ecology & Evolution 4, 1377–1384. <https://doi.org/10.1038/s41559-020-1274-7>\n",
    "\n",
    "Hansen, A.J., Noble, B.P., Veneros, J., East, A., Goetz, S.J., Supples, C., Watson, J.E.M., Jantz, P.A., Pillay, R., Jetz, W., Ferrier, S., Grantham, H.S., Evans, T.D., Ervin, J., Venter, O., Virnig, A.L.S., 2021. Toward monitoring forest ecosystem integrity within the post-2020 Global Biodiversity Framework. Conservation Letters 14, e12822. <https://doi.org/10.1111/conl.12822>\n",
    "\n",
    "Hermosilla, T., Wulder, M.A., White, J.C., Coops, N.C., Hobart, G.W., 2018. Disturbance-informed annual land cover classification maps of canada’s forested ecosystems for a 29-year landsat time series. Canadian Journal of Remote Sensing 44, 6787. <https://doi.org/10.1080/07038992.2018.1437719>\n",
    "\n",
    "Hermosilla, T., Wulder, M.A., White, J.C., Coops, N.C., Hobart, G.W., 2015. An integrated landsat time series protocol for change detection and generation of annual gap-free surface reflectance composites. Remote Sensing of Environment 158, 220234. <https://doi.org/10.1016/j.rse.2014.11.005>\n",
    "\n",
    "Hermosilla, T., Wulder, M.A., White, J.C., Coops, N.C., Hobart, G.W., Campbell, L.B., 2016. Mass data processing of time series landsat imagery: Pixels to data products for forest monitoring. International Journal of Digital Earth 9, 10351054. <https://doi.org/10.1080/17538947.2016.1187673>\n",
    "\n",
    "Hernangómez, D., 2023. Using the <span class=\"nocase\">tidyverse</span> with <span class=\"nocase\">terra</span> objects: The <span class=\"nocase\">tidyterra</span> package. Journal of Open Source Software 8, 5751. <https://doi.org/10.21105/joss.05751>\n",
    "\n",
    "Hijmans, R.J., 2024. [Terra: Spatial data analysis](https://rspatial.org/).\n",
    "\n",
    "Hirsh-Pearson, K., Johnson, C.J., Schuster, R., Wheate, R.D., Venter, O., 2022. Canada’s human footprint reveals large intact areas juxtaposed against areas under immense anthropogenic pressure. FACETS 7, 398–419. <https://doi.org/10.1139/facets-2021-0063>\n",
    "\n",
    "Hirsh-Pearson, K., Johnson, C., Schuster, R., Wheate, R., Venter, O., n.d. The Canadian Human Footprint. <https://doi.org/10.5683/SP2/EVKAVL>\n",
    "\n",
    "Hobbs, R.J., Higgs, E., Hall, C.M., Bridgewater, P., Chapin III, F.S., Ellis, E.C., Ewel, J.J., Hallett, L.M., Harris, J., Hulvey, K.B., Jackson, S.T., Kennedy, P.L., Kueffer, C., Lach, L., Lantz, T.C., Lugo, A.E., Mascaro, J., Murphy, S.D., Nelson, C.R., Perring, M.P., Richardson, D.M., Seastedt, T.R., Standish, R.J., Starzomski, B.M., Suding, K.N., Tognetti, P.M., Yakob, L., Yung, L., 2014. Managing the whole landscape: historical, hybrid, and novel ecosystems. Frontiers in Ecology and the Environment 12, 557–564. <https://doi.org/10.1890/130300>\n",
    "\n",
    "Holm, S., 1979. [A simple sequentially rejective multiple test procedure](https://www.jstor.org/stable/4615733). Scandinavian Journal of Statistics 6, 65–70.\n",
    "\n",
    "Huete, A., Didan, K., Miura, T., Rodriguez, E.P., Gao, X., Ferreira, L.G., 2002. Overview of the radiometric and biophysical performance of the MODIS vegetation indices. Remote Sensing of Environment 83, 195–213. <https://doi.org/10.1016/S0034-4257(02)00096-2>\n",
    "\n",
    "Huete, A.R., Liu, H., Leeuwen, W.J.D. van, 1997. IGARSS’97. 1997 IEEE international geoscience and remote sensing symposium proceedings. Remote sensing - a scientific vision for sustainable development. pp. 1966–1968 vol.4. <https://doi.org/10.1109/IGARSS.1997.609169>\n",
    "\n",
    "Iacus, S.M., King, G., Porro, G., 2012. Causal Inference without Balance Checking: Coarsened Exact Matching. Political Analysis 20, 1–24. <https://doi.org/10.1093/pan/mpr013>\n",
    "\n",
    "Joppa, L.N., Pfaff, A., 2009. High and Far: Biases in the Location of Protected Areas. PLOS ONE 4, e8273. <https://doi.org/10.1371/journal.pone.0008273>\n",
    "\n",
    "Kassambara, A., 2023. [Rstatix: Pipe-friendly framework for basic statistical tests](https://rpkgs.datanovia.com/rstatix/).\n",
    "\n",
    "Keyser, S.R., Pauli, J.N., Fink, D., Radeloff, V.C., Pigot, A.L., Zuckerberg, B., 2024. Seasonality Structures Avian Functional Diversity and Niche Packing Across North America. Ecology Letters 27, e14521. <https://doi.org/10.1111/ele.14521>\n",
    "\n",
    "Li, W., Guo, W.-Y., Pasgaard, M., Niu, Z., Wang, L., Chen, F., Qin, Y., Svenning, J.-C., 2023. Human fingerprint on structural density of forests globally. Nature Sustainability 6, 368–379. <https://doi.org/10.1038/s41893-022-01020-5>\n",
    "\n",
    "Macarthur, R., Macarthur, J., 1961. On bird species-diversity. Ecology 42, 594– &. <https://doi.org/10.2307/1932254>\n",
    "\n",
    "Mahalanobis, P.C., 1936. On the generalized distance in statistics. Proceedings of the National Institute of Sciences (Calcutta) 2, 4955.\n",
    "\n",
    "Mahony, C.R., Cannon, A.J., Wang, T., Aitken, S.N., 2017. A closer look at novel climates: new methods and insights at continental to landscape scales. Global Change Biology 23, 3934–3955. <https://doi.org/10.1111/gcb.13645>\n",
    "\n",
    "Marín, A.I., Abdul Malak, D., Bastrup-Birk, A., Chirici, G., Barbati, A., Kleeschulte, S., 2021. Mapping forest condition in europe: Methodological developments in support to forest biodiversity assessments. Ecological Indicators 128, 107839. <https://doi.org/10.1016/j.ecolind.2021.107839>\n",
    "\n",
    "Matasci, G., Hermosilla, T., Wulder, M.A., White, J.C., Coops, N.C., Hobart, G.W., Bolton, D.K., Tompalski, P., Bater, C.W., 2018a. Three decades of forest structural dynamics over canada’s forested ecosystems using landsat time-series and lidar plots. Remote Sensing of Environment 216, 697714. <https://doi.org/10.1016/j.rse.2018.07.024>\n",
    "\n",
    "Matasci, G., Hermosilla, T., Wulder, M.A., White, J.C., Coops, N.C., Hobart, G.W., Zald, H.S.J., 2018b. Large-area mapping of Canadian boreal forest cover, height, biomass and other structural attributes using Landsat composites and lidar plots. Remote Sensing of Environment 209, 90–106. <https://doi.org/10.1016/j.rse.2017.12.020>\n",
    "\n",
    "McNellie, M.J., Oliver, I., Dorrough, J., Ferrier, S., Newell, G., Gibbons, P., 2020. Reference state and benchmark concepts for better biodiversity conservation in contemporary ecosystems. Global Change Biology 26, 6702–6714. <https://doi.org/10.1111/gcb.15383>\n",
    "\n",
    "Michaud, J.-S., Coops, N.C., Andrew, M.E., Wulder, M.A., Brown, G.S., Rickbeil, G.J.M., 2014. Estimating moose (alces alces) occurrence and abundance from remotely derived environmental indicators. Remote Sensing of Environment 152, 190–201. <https://doi.org/10.1016/j.rse.2014.06.005>\n",
    "\n",
    "Ministry of Water, Land and Resource Stewardship (WLRS), 2023. Current condition report for old growth forest on vancouver island - 2019 analysis.\n",
    "\n",
    "Muise, E.R., Andrew, M.E., Coops, N.C., Hermosilla, T., Burton, A.C., Ban, S.S., 2024. Disentangling linkages between satellite-derived indicators of forest structure and productivity for ecosystem monitoring. Scientific Reports 14, 13717. <https://doi.org/10.1038/s41598-024-64615-2>\n",
    "\n",
    "Muise, E.R., Coops, N.C., Hermosilla, T., Ban, S.S., 2022. Assessing representation of remote sensing derived forest structure and land cover across a network of protected areas. Ecological Applications 32, e2603. <https://doi.org/10.1002/eap.2603>\n",
    "\n",
    "Myers, N., 1988. Threatened biotas: \"Hot spots\" in tropical forests. Environmentalist 8, 187–208. <https://doi.org/10.1007/BF02240252>\n",
    "\n",
    "Naidoo, R., Ricketts, T.H., 2006. Mapping the economic costs and benefits of conservation. PLoS Biology 4, 2153–2164. <https://doi.org/10.1371/journal.pbio.0040360>\n",
    "\n",
    "Nicholson, E., Watermeyer, K.E., Rowland, J.A., Sato, C.F., Stevenson, S.L., Andrade, A., Brooks, T.M., Burgess, N.D., Cheng, S.-T., Grantham, H.S., Hill, S.L., Keith, D.A., Maron, M., Metzke, D., Murray, N.J., Nelson, C.R., Obura, D., Plumptre, A., Skowno, A.L., Watson, J.E.M., 2021. Scientific foundations for an ecosystem goal, milestones and indicators for the post-2020 global biodiversity framework. Nature Ecology & Evolution 5, 1338–1349. <https://doi.org/10.1038/s41559-021-01538-5>\n",
    "\n",
    "Nielsen, S.E., Bayne, E.M., Schieck, J., Herbers, J., Boutin, S., 2007. A new method to estimate species and biodiversity intactness using empirically derived reference conditions. Biological Conservation 137, 403–414. <https://doi.org/10.1016/j.biocon.2007.02.024>\n",
    "\n",
    "[Park Act](https://www.bclaws.gov.bc.ca/civix/document/id/complete/statreg/96344_01), 1996. RSBC 1996, c 344.\n",
    "\n",
    "Pebesma, E., 2018. <span class=\"nocase\">Simple Features for R: Standardized Support for Spatial Vector Data</span>. The R Journal 10, 439–446. <https://doi.org/10.32614/RJ-2018-009>\n",
    "\n",
    "Pebesma, E., Bivand, R., 2023. <span class=\"nocase\">Spatial Data Science: With applications in R</span>. Chapman and Hall/CRC. <https://doi.org/10.1201/9780429459016>\n",
    "\n",
    "Pereira, H.M., Ferrier, S., Walters, M., Geller, G.N., Jongman, R.H.G., Scholes, R.J., Bruford, M.W., Brummitt, N., Butchart, S.H.M., Cardoso, A.C., Coops, N.C., Dulloo, E., Faith, D.P., Freyhof, J., Gregory, R.D., Heip, C., Hoft, R., Hurtt, G., Jetz, W., Karp, D.S., McGeoch, M.A., Obura, D., Onoda, Y., Pettorelli, N., Reyers, B., Sayre, R., Scharlemann, J.P.W., Stuart, S.N., Turak, E., Walpole, M., Wegmann, M., 2013. Essential Biodiversity Variables. Science 339, 277–278. <https://doi.org/10.1126/science.1229931>\n",
    "\n",
    "Pettorelli, N., Schulte to Bühne, H., Tulloch, A., Dubois, G., Macinnis-Ng, C., Queirós, A.M., Keith, D.A., Wegmann, M., Schrodt, F., Stellmes, M., Sonnenschein, R., Geller, G.N., Roy, S., Somers, B., Murray, N., Bland, L., Geijzendorffer, I., Kerr, J.T., Broszeit, S., Leitão, P.J., Duncan, C., El Serafy, G., He, K.S., Blanchard, J.L., Lucas, R., Mairota, P., Webb, T.J., Nicholson, E., 2018. Satellite remote sensing of ecosystem functions: opportunities, challenges and way forward. Remote Sensing in Ecology and Conservation 4, 71–93. <https://doi.org/10.1002/rse2.59>\n",
    "\n",
    "Pettorelli, N., Vik, J.O., Mysterud, A., Gaillard, J.-M., Tucker, C.J., Stenseth, N.Chr., 2005. Using the satellite-derived NDVI to assess ecological responses to environmental change. Trends in Ecology & Evolution 20, 503–510. <https://doi.org/10.1016/j.tree.2005.05.011>\n",
    "\n",
    "Pillay, R., Watson, J.E.M., Goetz, S.J., Hansen, A.J., Jantz, P.A., Ramírez-Delgado, J.P., Grantham, H.S., Ferrier, S., Venter, O., 2024a. The Kunming-Montreal Global Biodiversity Framework needs headline indicators that can actually monitor forest integrity. Environmental Research: Ecology 3, 043001. <https://doi.org/10.1088/2752-664X/ad7961>\n",
    "\n",
    "Pillay, R., Watson, J.E.M., Hansen, A.J., Burns, P., Virnig, A.L.S., Supples, C., Armenteras, D., González-del-Pliego, P., Aragon-Osejo, J., A. Jantz, P., Ervin, J., Goetz, S.J., Venter, O., 2024b. Global rarity of high-integrity tropical rainforests for threatened and declining terrestrial vertebrates. Proceedings of the National Academy of Sciences 121, e2413325121. <https://doi.org/10.1073/pnas.2413325121>\n",
    "\n",
    "Pimm, S.L., Raven, P., 2000. Extinction by numbers. Nature 403, 843–845. <https://doi.org/10.1038/35002708>\n",
    "\n",
    "Pojar, J., Klinka, K., Meidinger, D.V., 1987. Biogeoclimatic ecosystem classification in British Columbia. Forest Ecology and Management 22, 119–154. <https://doi.org/10.1016/0378-1127(87)90100-9>\n",
    "\n",
    "Potapov, P., Li, X., Hernandez-Serna, A., Tyukavina, A., Hansen, M.C., Kommareddy, A., Pickens, A., Turubanova, S., Tang, H., Silva, C.E., Armston, J., Dubayah, R., Blair, J.B., Hofton, M., 2021. Mapping global forest canopy height through integration of GEDI and Landsat data. Remote Sensing of Environment 253, 112165. <https://doi.org/10.1016/j.rse.2020.112165>\n",
    "\n",
    "Queinnec, M., White, J.C., Coops, N.C., 2021. Comparing airborne and spaceborne photon-counting LiDAR canopy structural estimates across different boreal forest types. Remote Sensing of Environment 262, 112510. <https://doi.org/10.1016/j.rse.2021.112510>\n",
    "\n",
    "R Core Team, 2024. [R: A language and environment for statistical computing](https://www.R-project.org/). R Foundation for Statistical Computing, Vienna, Austria.\n",
    "\n",
    "Radeloff, V.C., Dubinin, M., Coops, N.C., Allen, A.M., Brooks, T.M., Clayton, M.K., Costa, G.C., Graham, C.H., Helmers, D.P., Ives, A.R., Kolesov, D., Pidgeon, A.M., Rapacciuolo, G., Razenkova, E., Suttidate, N., Young, B.E., Zhu, L., Hobi, M.L., 2019. The Dynamic Habitat Indices (DHIs) from MODIS and global biodiversity. Remote Sensing of Environment 222, 204–214. <https://doi.org/10.1016/j.rse.2018.12.009>\n",
    "\n",
    "Radeloff, V.C., Roy, D.P., Wulder, M.A., Anderson, M., Cook, B., Crawford, C.J., Friedl, M., Gao, F., Gorelick, N., Hansen, M., Healey, S., Hostert, P., Hulley, G., Huntington, J.L., Johnson, D.M., Neigh, C., Lyapustin, A., Lymburner, L., Pahlevan, N., Pekel, J.-F., Scambos, T.A., Schaaf, C., Strobl, P., Woodcock, C.E., Zhang, H.K., Zhu, Z., 2024. Need and vision for global medium-resolution landsat and sentinel-2 data products. Remote Sensing of Environment 300, 113918. <https://doi.org/10.1016/j.rse.2023.113918>\n",
    "\n",
    "Razenkova, E., 2023. [‎Developing remotely sensed indices for biodiversity studies across the conterminous US](https://digital.library.wisc.edu/1711.dl/AHEVJRQOIXB3K83) (PhD thesis).\n",
    "\n",
    "Razenkova, E., Farwell, L.S., Elsen, P., Carroll, K.A., Pidgeon, A.M., Radeloff, V., 2022. [Explaining bird richness with the dynamic habitat indices across the conterminous US](https://ui.adsabs.harvard.edu/abs/2022AGUFM.B15A..05R) 2022, B15A–05.\n",
    "\n",
    "Skidmore, A.K., Coops, N.C., Neinavaz, E., Ali, A., Schaepman, M.E., Paganini, M., Kissling, W.D., Vihervaara, P., Darvishzadeh, R., Feilhauer, H., Fernandez, M., Fernández, N., Gorelick, N., Geijzendorffer, I., Heiden, U., Heurich, M., Hobern, D., Holzwarth, S., Muller-Karger, F.E., Van De Kerchove, R., Lausch, A., Leitão, P.J., Lock, M.C., Mücher, C.A., O’Connor, B., Rocchini, D., Turner, W., Vis, J.K., Wang, T., Wegmann, M., Wingate, V., 2021. Priority list of biodiversity metrics to observe from space. Nature Ecology & Evolution. <https://doi.org/10.1038/s41559-021-01451-x>\n",
    "\n",
    "Suttidate, N., Steinmetz, R., Lynam, A.J., Sukmasuang, R., Ngoprasert, D., Chutipong, W., Bateman, B.L., Jenks, K.E., Baker-Whatton, M., Kitamura, S., Ziolkowska, E., Radeloff, V.C., 2021. Habitat connectivity for endangered indochinese tigers in thailand. Global Ecology and Conservation 29. <https://doi.org/10.1016/j.gecco.2021.e01718>\n",
    "\n",
    "Thomas, C.D., Cameron, A., Green, R.E., Bakkenes, M., Beaumont, L.J., Collingham, Y.C., Erasmus, B.F.N., Siqueira, M.F. de, Grainger, A., Hannah, L., Hughes, L., Huntley, B., Jaarsveld, A.S. van, Midgley, G.F., Miles, L., Ortega-Huerta, M.A., Peterson, A.T., Phillips, O.L., Williams, S.E., 2004. Extinction risk from climate change. Nature 427, 5.\n",
    "\n",
    "Thompson, I.D., Mackey, B., McNulty, S., Mosseler, A., 2009. Forest resilience, biodiversity, and climate change: a synthesis of the biodiversity / resiliende / stability relationship in forest ecosystems, CBD technical series. Secretariat of the Convention on Biological Diversity, Montreal.\n",
    "\n",
    "Urban, M.C., 2015. Accelerating extinction risk from climate change. Science 348, 571–573. <https://doi.org/10.1126/science.aaa4984>\n",
    "\n",
    "Valbuena, R., O’Connor, B., Zellweger, F., Simonson, W., Vihervaara, P., Maltamo, M., Silva, C.A., Almeida, D.R.A., Danks, F., Morsdorf, F., Chirici, G., Lucas, R., Coomes, D.A., Coops, N.C., 2020. Standardizing ecosystem morphological traits from 3D information sources. Trends in Ecology & Evolution 35, 656–667. <https://doi.org/10.1016/j.tree.2020.03.006>\n",
    "\n",
    "White, Joanne.C., Wulder, M.A., Hobart, G.W., Luther, J.E., Hermosilla, T., Griffiths, P., Coops, N.C., Hall, R.J., Hostert, P., Dyk, A., Guindon, L., 2014. Pixel-based image compositing for large-area dense time series applications and science. Canadian Journal of Remote Sensing 40, 192212. <https://doi.org/10.1080/07038992.2014.945827>\n",
    "\n",
    "Zhu, Z., Woodcock, C.E., 2012. Object-based cloud and cloud shadow detection in Landsat imagery. Remote Sensing of Environment 118, 83–94. <https://doi.org/10.1016/j.rse.2011.10.028>"
   ],
   "id": "99da0ecc-ffc7-4d74-9b40-2200de5995c4"
  }
 ],
 "nbformat": 4,
 "nbformat_minor": 5,
 "metadata": {}
}
